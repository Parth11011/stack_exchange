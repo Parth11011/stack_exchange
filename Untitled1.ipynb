{
 "cells": [
  {
   "cell_type": "code",
   "execution_count": 1,
   "metadata": {},
   "outputs": [],
   "source": [
    "#Importing important files\n",
    "import pandas as pd\n",
    "import xml.etree.ElementTree as ET\n",
    "from sklearn.impute import SimpleImputer\n",
    "from sklearn.preprocessing import OneHotEncoder\n",
    "from sklearn.preprocessing import OrdinalEncoder\n",
    "from sklearn.compose import ColumnTransformer\n",
    "from sklearn.utils import resample\n",
    "import seaborn as sns\n",
    "from sklearn.preprocessing import FunctionTransformer\n",
    "import matplotlib.pyplot as plt\n",
    "from scipy.stats import chi2_contingency"
   ]
  },
  {
   "cell_type": "code",
   "execution_count": null,
   "metadata": {},
   "outputs": [],
   "source": [
    "#Importing important files\n",
    "import pandas as pd\n",
    "import xml.etree.ElementTree as ET\n",
    "\n",
    "# parse the xml file\n",
    "tree = ET.parse('Posts.xml')\n",
    "\n",
    "# get the root element\n",
    "root = tree.getroot()"
   ]
  },
  {
   "cell_type": "code",
   "execution_count": 16,
   "metadata": {},
   "outputs": [
    {
     "name": "stdout",
     "output_type": "stream",
     "text": [
      "5\n",
      "13803\n",
      "5\n"
     ]
    },
    {
     "data": {
      "text/html": [
       "<div>\n",
       "<style scoped>\n",
       "    .dataframe tbody tr th:only-of-type {\n",
       "        vertical-align: middle;\n",
       "    }\n",
       "\n",
       "    .dataframe tbody tr th {\n",
       "        vertical-align: top;\n",
       "    }\n",
       "\n",
       "    .dataframe thead th {\n",
       "        text-align: right;\n",
       "    }\n",
       "</style>\n",
       "<table border=\"1\" class=\"dataframe\">\n",
       "  <thead>\n",
       "    <tr style=\"text-align: right;\">\n",
       "      <th></th>\n",
       "      <th>Body</th>\n",
       "      <th>CommentCount</th>\n",
       "      <th>Title</th>\n",
       "      <th>ViewCount</th>\n",
       "    </tr>\n",
       "  </thead>\n",
       "  <tbody>\n",
       "    <tr>\n",
       "      <th>1</th>\n",
       "      <td>What is spin as it relates to subatomic partic...</td>\n",
       "      <td>5</td>\n",
       "      <td>What is spin as it relates to subatomic partic...</td>\n",
       "      <td>13803</td>\n",
       "    </tr>\n",
       "  </tbody>\n",
       "</table>\n",
       "</div>"
      ],
      "text/plain": [
       "                                                Body  CommentCount  \\\n",
       "1  What is spin as it relates to subatomic partic...             5   \n",
       "\n",
       "                                               Title  ViewCount  \n",
       "1  What is spin as it relates to subatomic partic...      13803  "
      ]
     },
     "execution_count": 16,
     "metadata": {},
     "output_type": "execute_result"
    }
   ],
   "source": [
    "c={}\n",
    "s=root[0].attrib\n",
    "if 'CommentCount' in root[0].attrib:\n",
    "    c['CommentCount']=int(root[0].attrib['CommentCount'])\n",
    "if \"ViewCount\" in root[0].attrib:\n",
    "    c['ViewCount']=int(root[0].attrib['ViewCount'])\n",
    "if 'Title' in root[0].attrib:\n",
    "    c['Title']=(root[0].attrib['Title'])\n",
    "if 'Body' in root[0].attrib:\n",
    "    c['Body']=(root[0].attrib['Title'])\n",
    "if 'CommentCount'  not in root[0].attrib:\n",
    "    c[\"CommentCount\"]=None\n",
    "if 'ViewCount'  not in root[0].attrib:\n",
    "    c[\"ViewCount\"]=None\n",
    "if 'Title'  not in root[0].attrib:\n",
    "    c[\"Title\"]=None\n",
    "if 'Body'  not in root[0].attrib:\n",
    "    c[\"Body\"]=None\n",
    "\n",
    "pd.DataFrame(c,index=[int(root[0].attrib[\"Id\"])])\n"
   ]
  },
  {
   "cell_type": "code",
   "execution_count": 21,
   "metadata": {},
   "outputs": [
    {
     "name": "stderr",
     "output_type": "stream",
     "text": [
      "C:\\Users\\omcomputers\\Anaconda2\\lib\\site-packages\\ipykernel_launcher.py:4: FutureWarning: Sorting because non-concatenation axis is not aligned. A future version\n",
      "of pandas will change to not sort by default.\n",
      "\n",
      "To accept the future behavior, pass 'sort=False'.\n",
      "\n",
      "To retain the current behavior and silence the warning, pass 'sort=True'.\n",
      "\n",
      "  after removing the cwd from sys.path.\n"
     ]
    }
   ],
   "source": [
    "my_df1=(pd.DataFrame())\n",
    "for i in range(10000):\n",
    "    dd=(pd.DataFrame(root[i].attrib,index=[int(root[0].attrib[\"Id\"])]))\n",
    "    my_df=pd.concat([my_df, dd], axis=0, ignore_index=True)\n",
    "    \n",
    "    "
   ]
  },
  {
   "cell_type": "code",
   "execution_count": 22,
   "metadata": {},
   "outputs": [
    {
     "data": {
      "text/plain": [
       "(20000, 21)"
      ]
     },
     "execution_count": 22,
     "metadata": {},
     "output_type": "execute_result"
    }
   ],
   "source": [
    "my_df.shape"
   ]
  },
  {
   "cell_type": "code",
   "execution_count": 10,
   "metadata": {},
   "outputs": [
    {
     "data": {
      "text/plain": [
       "AcceptedAnswerId         8066\n",
       "AnswerCount              6565\n",
       "Body                        0\n",
       "ClosedDate               9690\n",
       "CommentCount                0\n",
       "CommunityOwnedDate       9706\n",
       "CreationDate                0\n",
       "FavoriteCount            8076\n",
       "Id                          0\n",
       "LastActivityDate            0\n",
       "LastEditDate             5021\n",
       "LastEditorDisplayName    9929\n",
       "LastEditorUserId         5080\n",
       "OwnerDisplayName         9823\n",
       "OwnerUserId               113\n",
       "ParentId                 3555\n",
       "PostTypeId                  0\n",
       "Score                       0\n",
       "Tags                     6565\n",
       "Title                    6565\n",
       "ViewCount                6565\n",
       "dtype: int64"
      ]
     },
     "execution_count": 10,
     "metadata": {},
     "output_type": "execute_result"
    }
   ],
   "source": [
    "#Out of 20 thousand rows 30% rows of title,and viewcount is not present so we would we dropping rows which dont have value for view count and title \n",
    "my_df.isnull().sum()"
   ]
  },
  {
   "cell_type": "code",
   "execution_count": 12,
   "metadata": {},
   "outputs": [
    {
     "data": {
      "text/html": [
       "<div>\n",
       "<style scoped>\n",
       "    .dataframe tbody tr th:only-of-type {\n",
       "        vertical-align: middle;\n",
       "    }\n",
       "\n",
       "    .dataframe tbody tr th {\n",
       "        vertical-align: top;\n",
       "    }\n",
       "\n",
       "    .dataframe thead th {\n",
       "        text-align: right;\n",
       "    }\n",
       "</style>\n",
       "<table border=\"1\" class=\"dataframe\">\n",
       "  <thead>\n",
       "    <tr style=\"text-align: right;\">\n",
       "      <th></th>\n",
       "      <th>AcceptedAnswerId</th>\n",
       "      <th>AnswerCount</th>\n",
       "      <th>Body</th>\n",
       "      <th>ClosedDate</th>\n",
       "      <th>CommentCount</th>\n",
       "      <th>CommunityOwnedDate</th>\n",
       "      <th>CreationDate</th>\n",
       "      <th>FavoriteCount</th>\n",
       "      <th>Id</th>\n",
       "      <th>LastActivityDate</th>\n",
       "      <th>...</th>\n",
       "      <th>LastEditorDisplayName</th>\n",
       "      <th>LastEditorUserId</th>\n",
       "      <th>OwnerDisplayName</th>\n",
       "      <th>OwnerUserId</th>\n",
       "      <th>ParentId</th>\n",
       "      <th>PostTypeId</th>\n",
       "      <th>Score</th>\n",
       "      <th>Tags</th>\n",
       "      <th>Title</th>\n",
       "      <th>ViewCount</th>\n",
       "    </tr>\n",
       "  </thead>\n",
       "  <tbody>\n",
       "    <tr>\n",
       "      <th>0</th>\n",
       "      <td>NaN</td>\n",
       "      <td>NaN</td>\n",
       "      <td>&lt;p&gt;I'll give what I think is a more beautiful ...</td>\n",
       "      <td>NaN</td>\n",
       "      <td>2</td>\n",
       "      <td>NaN</td>\n",
       "      <td>2011-06-20T22:35:21.833</td>\n",
       "      <td>NaN</td>\n",
       "      <td>11369</td>\n",
       "      <td>2011-06-20T22:56:58.617</td>\n",
       "      <td>...</td>\n",
       "      <td>NaN</td>\n",
       "      <td>1272</td>\n",
       "      <td>NaN</td>\n",
       "      <td>1272</td>\n",
       "      <td>11340</td>\n",
       "      <td>2</td>\n",
       "      <td>7</td>\n",
       "      <td>NaN</td>\n",
       "      <td>NaN</td>\n",
       "      <td>NaN</td>\n",
       "    </tr>\n",
       "    <tr>\n",
       "      <th>1</th>\n",
       "      <td>NaN</td>\n",
       "      <td>NaN</td>\n",
       "      <td>&lt;p&gt;From the point of view of aerodynamics, a s...</td>\n",
       "      <td>NaN</td>\n",
       "      <td>0</td>\n",
       "      <td>NaN</td>\n",
       "      <td>2011-06-20T22:56:19.680</td>\n",
       "      <td>NaN</td>\n",
       "      <td>11370</td>\n",
       "      <td>2011-06-20T22:56:19.680</td>\n",
       "      <td>...</td>\n",
       "      <td>NaN</td>\n",
       "      <td>NaN</td>\n",
       "      <td>NaN</td>\n",
       "      <td>1272</td>\n",
       "      <td>11241</td>\n",
       "      <td>2</td>\n",
       "      <td>4</td>\n",
       "      <td>NaN</td>\n",
       "      <td>NaN</td>\n",
       "      <td>NaN</td>\n",
       "    </tr>\n",
       "    <tr>\n",
       "      <th>2</th>\n",
       "      <td>NaN</td>\n",
       "      <td>1</td>\n",
       "      <td>&lt;p&gt;The problem is simple, I suppose...&lt;/p&gt;\\n\\n...</td>\n",
       "      <td>NaN</td>\n",
       "      <td>2</td>\n",
       "      <td>NaN</td>\n",
       "      <td>2011-06-20T23:00:36.947</td>\n",
       "      <td>1</td>\n",
       "      <td>11371</td>\n",
       "      <td>2011-06-20T23:38:31.420</td>\n",
       "      <td>...</td>\n",
       "      <td>NaN</td>\n",
       "      <td>NaN</td>\n",
       "      <td>NaN</td>\n",
       "      <td>1954</td>\n",
       "      <td>NaN</td>\n",
       "      <td>1</td>\n",
       "      <td>2</td>\n",
       "      <td>&lt;temperature&gt;&lt;home-experiment&gt;</td>\n",
       "      <td>How can I calculate how long to keep my bevera...</td>\n",
       "      <td>2763</td>\n",
       "    </tr>\n",
       "    <tr>\n",
       "      <th>3</th>\n",
       "      <td>NaN</td>\n",
       "      <td>NaN</td>\n",
       "      <td>&lt;p&gt;If the case is purely electrostatic, one do...</td>\n",
       "      <td>NaN</td>\n",
       "      <td>3</td>\n",
       "      <td>NaN</td>\n",
       "      <td>2011-06-20T23:02:25.947</td>\n",
       "      <td>NaN</td>\n",
       "      <td>11372</td>\n",
       "      <td>2011-06-21T01:20:00.310</td>\n",
       "      <td>...</td>\n",
       "      <td>NaN</td>\n",
       "      <td>3970</td>\n",
       "      <td>NaN</td>\n",
       "      <td>3970</td>\n",
       "      <td>11311</td>\n",
       "      <td>2</td>\n",
       "      <td>1</td>\n",
       "      <td>NaN</td>\n",
       "      <td>NaN</td>\n",
       "      <td>NaN</td>\n",
       "    </tr>\n",
       "    <tr>\n",
       "      <th>4</th>\n",
       "      <td>NaN</td>\n",
       "      <td>NaN</td>\n",
       "      <td>&lt;p&gt;Apparently I figured it out.&lt;/p&gt;\\n\\n&lt;p&gt;&lt;str...</td>\n",
       "      <td>NaN</td>\n",
       "      <td>0</td>\n",
       "      <td>NaN</td>\n",
       "      <td>2011-06-20T23:20:42.167</td>\n",
       "      <td>NaN</td>\n",
       "      <td>11373</td>\n",
       "      <td>2011-06-21T03:17:00.007</td>\n",
       "      <td>...</td>\n",
       "      <td>NaN</td>\n",
       "      <td>-1</td>\n",
       "      <td>NaN</td>\n",
       "      <td>4112</td>\n",
       "      <td>11293</td>\n",
       "      <td>2</td>\n",
       "      <td>1</td>\n",
       "      <td>NaN</td>\n",
       "      <td>NaN</td>\n",
       "      <td>NaN</td>\n",
       "    </tr>\n",
       "  </tbody>\n",
       "</table>\n",
       "<p>5 rows × 21 columns</p>\n",
       "</div>"
      ],
      "text/plain": [
       "  AcceptedAnswerId AnswerCount  \\\n",
       "0              NaN         NaN   \n",
       "1              NaN         NaN   \n",
       "2              NaN           1   \n",
       "3              NaN         NaN   \n",
       "4              NaN         NaN   \n",
       "\n",
       "                                                Body ClosedDate CommentCount  \\\n",
       "0  <p>I'll give what I think is a more beautiful ...        NaN            2   \n",
       "1  <p>From the point of view of aerodynamics, a s...        NaN            0   \n",
       "2  <p>The problem is simple, I suppose...</p>\\n\\n...        NaN            2   \n",
       "3  <p>If the case is purely electrostatic, one do...        NaN            3   \n",
       "4  <p>Apparently I figured it out.</p>\\n\\n<p><str...        NaN            0   \n",
       "\n",
       "  CommunityOwnedDate             CreationDate FavoriteCount     Id  \\\n",
       "0                NaN  2011-06-20T22:35:21.833           NaN  11369   \n",
       "1                NaN  2011-06-20T22:56:19.680           NaN  11370   \n",
       "2                NaN  2011-06-20T23:00:36.947             1  11371   \n",
       "3                NaN  2011-06-20T23:02:25.947           NaN  11372   \n",
       "4                NaN  2011-06-20T23:20:42.167           NaN  11373   \n",
       "\n",
       "          LastActivityDate  ... LastEditorDisplayName LastEditorUserId  \\\n",
       "0  2011-06-20T22:56:58.617  ...                   NaN             1272   \n",
       "1  2011-06-20T22:56:19.680  ...                   NaN              NaN   \n",
       "2  2011-06-20T23:38:31.420  ...                   NaN              NaN   \n",
       "3  2011-06-21T01:20:00.310  ...                   NaN             3970   \n",
       "4  2011-06-21T03:17:00.007  ...                   NaN               -1   \n",
       "\n",
       "  OwnerDisplayName OwnerUserId ParentId PostTypeId Score  \\\n",
       "0              NaN        1272    11340          2     7   \n",
       "1              NaN        1272    11241          2     4   \n",
       "2              NaN        1954      NaN          1     2   \n",
       "3              NaN        3970    11311          2     1   \n",
       "4              NaN        4112    11293          2     1   \n",
       "\n",
       "                             Tags  \\\n",
       "0                             NaN   \n",
       "1                             NaN   \n",
       "2  <temperature><home-experiment>   \n",
       "3                             NaN   \n",
       "4                             NaN   \n",
       "\n",
       "                                               Title ViewCount  \n",
       "0                                                NaN       NaN  \n",
       "1                                                NaN       NaN  \n",
       "2  How can I calculate how long to keep my bevera...      2763  \n",
       "3                                                NaN       NaN  \n",
       "4                                                NaN       NaN  \n",
       "\n",
       "[5 rows x 21 columns]"
      ]
     },
     "execution_count": 12,
     "metadata": {},
     "output_type": "execute_result"
    }
   ],
   "source": [
    "my_df.head()"
   ]
  },
  {
   "cell_type": "code",
   "execution_count": 81,
   "metadata": {},
   "outputs": [],
   "source": [
    "# Taking out data from the file with column of our intrest.\n",
    "my_df=(pd.DataFrame())\n",
    "c={}\n",
    "for i in range(100000):\n",
    "    if 'CommentCount' in root[i].attrib:\n",
    "        c['CommentCount']=int(root[i].attrib['CommentCount'])\n",
    "    if \"ViewCount\" in root[i].attrib:\n",
    "        c['ViewCount']=int(root[i].attrib['ViewCount'])\n",
    "    if 'Title' in root[i].attrib:\n",
    "        c['Title']=(root[i].attrib['Title'])\n",
    "    if 'Body' in root[i].attrib:\n",
    "        c['Body']=(root[i].attrib['Body'])\n",
    "    if 'CommentCount'  not in root[i].attrib:\n",
    "        c[\"CommentCount\"]=None\n",
    "    if 'ViewCount'  not in root[i].attrib:\n",
    "        c[\"ViewCount\"]=None\n",
    "    if 'Title'  not in root[i].attrib:\n",
    "        c[\"Title\"]=None\n",
    "    if 'Body'  not in root[i].attrib:\n",
    "        c[\"Body\"]=None\n",
    "    f=pd.DataFrame(c,index=[int(root[i].attrib[\"Id\"])])\n",
    "    my_df=pd.concat([my_df, f], axis=0, ignore_index=True)\n"
   ]
  },
  {
   "cell_type": "code",
   "execution_count": 156,
   "metadata": {},
   "outputs": [],
   "source": [
    "my_df=(pd.DataFrame())\n",
    "c={}\n",
    "for i in range(100000,300000):\n",
    "    if \"ViewCount\" and 'Title' in root[i].attrib:\n",
    "        c['Title']=(root[i].attrib['Title'])\n",
    "        c['ViewCount']=int(root[i].attrib['ViewCount'])\n",
    "        if 'CommentCount' in root[i].attrib:\n",
    "            c['CommentCount']=int(root[i].attrib['CommentCount'])  \n",
    "        if \"Score\" in  root[i].attrib:\n",
    "            c['Score']=int((root[i].attrib[\"Score\"]))\n",
    "        if 'Body' in root[i].attrib:\n",
    "            c['Body']=(root[i].attrib['Body'])\n",
    "        if 'Body'  not in root[i].attrib:  \n",
    "            c[\"Body\"]=None\n",
    "        if 'Title'  not in root[i].attrib:\n",
    "            c[\"Title\"]=None\n",
    "        if \"Score\" not in root[i].attrib:\n",
    "            c['Score']=None\n",
    "        f=pd.DataFrame(c,index=[int(root[i].attrib[\"Id\"])])\n",
    "        my_df=pd.concat([my_df, f], axis=0, ignore_index=True)"
   ]
  },
  {
   "cell_type": "code",
   "execution_count": 157,
   "metadata": {},
   "outputs": [],
   "source": [
    "#converting into csv\n",
    "my_df.to_csv('perfect1.csv',index=False,encoding='utf-8')"
   ]
  },
  {
   "cell_type": "code",
   "execution_count": 158,
   "metadata": {},
   "outputs": [
    {
     "data": {
      "text/plain": [
       "Body            0\n",
       "CommentCount    0\n",
       "Score           0\n",
       "Title           0\n",
       "ViewCount       0\n",
       "dtype: int64"
      ]
     },
     "execution_count": 158,
     "metadata": {},
     "output_type": "execute_result"
    }
   ],
   "source": [
    "my_df.isnull().sum()"
   ]
  },
  {
   "cell_type": "code",
   "execution_count": 159,
   "metadata": {},
   "outputs": [],
   "source": [
    "df1=pd.read_csv(\"perfect.csv\")\n",
    "df2=pd.read_csv(\"perfect1.csv\")"
   ]
  },
  {
   "cell_type": "code",
   "execution_count": 160,
   "metadata": {},
   "outputs": [],
   "source": [
    "#concating into data frame\n",
    "df=pd.concat([df1, df2], axis=0, ignore_index=True)"
   ]
  },
  {
   "cell_type": "code",
   "execution_count": 165,
   "metadata": {},
   "outputs": [],
   "source": [
    "df3=df.copy()"
   ]
  },
  {
   "cell_type": "code",
   "execution_count": 166,
   "metadata": {},
   "outputs": [
    {
     "data": {
      "text/plain": [
       "Body            0\n",
       "CommentCount    0\n",
       "Score           0\n",
       "Title           0\n",
       "ViewCount       0\n",
       "dtype: int64"
      ]
     },
     "execution_count": 166,
     "metadata": {},
     "output_type": "execute_result"
    }
   ],
   "source": [
    "df.isnull().sum()"
   ]
  },
  {
   "cell_type": "code",
   "execution_count": 13,
   "metadata": {},
   "outputs": [],
   "source": [
    "df=pd.read_csv(\"perfect1.csv\")"
   ]
  },
  {
   "cell_type": "code",
   "execution_count": 14,
   "metadata": {},
   "outputs": [
    {
     "data": {
      "text/html": [
       "<div>\n",
       "<style scoped>\n",
       "    .dataframe tbody tr th:only-of-type {\n",
       "        vertical-align: middle;\n",
       "    }\n",
       "\n",
       "    .dataframe tbody tr th {\n",
       "        vertical-align: top;\n",
       "    }\n",
       "\n",
       "    .dataframe thead th {\n",
       "        text-align: right;\n",
       "    }\n",
       "</style>\n",
       "<table border=\"1\" class=\"dataframe\">\n",
       "  <thead>\n",
       "    <tr style=\"text-align: right;\">\n",
       "      <th></th>\n",
       "      <th>Body</th>\n",
       "      <th>CommentCount</th>\n",
       "      <th>Score</th>\n",
       "      <th>Title</th>\n",
       "      <th>ViewCount</th>\n",
       "    </tr>\n",
       "  </thead>\n",
       "  <tbody>\n",
       "    <tr>\n",
       "      <th>0</th>\n",
       "      <td>&lt;p&gt;If two rocks were tied together with a tigh...</td>\n",
       "      <td>6</td>\n",
       "      <td>4</td>\n",
       "      <td>Thought experiment: Tethered galaxies - to the...</td>\n",
       "      <td>239</td>\n",
       "    </tr>\n",
       "    <tr>\n",
       "      <th>1</th>\n",
       "      <td>&lt;p&gt;Can someone tell me in layman's language ho...</td>\n",
       "      <td>5</td>\n",
       "      <td>4</td>\n",
       "      <td>A whole lot of doubts on Lorentz representation</td>\n",
       "      <td>289</td>\n",
       "    </tr>\n",
       "    <tr>\n",
       "      <th>2</th>\n",
       "      <td>&lt;p&gt;As the title says. It is common sense that ...</td>\n",
       "      <td>7</td>\n",
       "      <td>162</td>\n",
       "      <td>How does a knife cut things at the atomic level?</td>\n",
       "      <td>34847</td>\n",
       "    </tr>\n",
       "    <tr>\n",
       "      <th>3</th>\n",
       "      <td>&lt;p&gt;We usually have the normalization (see e.g....</td>\n",
       "      <td>0</td>\n",
       "      <td>1</td>\n",
       "      <td>Spinor normalizations in Breit-frame: electric...</td>\n",
       "      <td>128</td>\n",
       "    </tr>\n",
       "    <tr>\n",
       "      <th>4</th>\n",
       "      <td>&lt;p&gt;I'm a bit messed up with conservation laws ...</td>\n",
       "      <td>7</td>\n",
       "      <td>2</td>\n",
       "      <td>Conservation laws and continuity equations</td>\n",
       "      <td>1074</td>\n",
       "    </tr>\n",
       "  </tbody>\n",
       "</table>\n",
       "</div>"
      ],
      "text/plain": [
       "                                                Body  CommentCount  Score  \\\n",
       "0  <p>If two rocks were tied together with a tigh...             6      4   \n",
       "1  <p>Can someone tell me in layman's language ho...             5      4   \n",
       "2  <p>As the title says. It is common sense that ...             7    162   \n",
       "3  <p>We usually have the normalization (see e.g....             0      1   \n",
       "4  <p>I'm a bit messed up with conservation laws ...             7      2   \n",
       "\n",
       "                                               Title  ViewCount  \n",
       "0  Thought experiment: Tethered galaxies - to the...        239  \n",
       "1    A whole lot of doubts on Lorentz representation        289  \n",
       "2   How does a knife cut things at the atomic level?      34847  \n",
       "3  Spinor normalizations in Breit-frame: electric...        128  \n",
       "4         Conservation laws and continuity equations       1074  "
      ]
     },
     "execution_count": 14,
     "metadata": {},
     "output_type": "execute_result"
    }
   ],
   "source": [
    "df.head()"
   ]
  },
  {
   "cell_type": "code",
   "execution_count": 167,
   "metadata": {},
   "outputs": [],
   "source": [
    "#As every row of Body starts with \"<p>\" striiping it of from each row\n",
    "df3['Body']=df3['Body'].str.split(\"<p>\").str.join(\"\")"
   ]
  },
  {
   "cell_type": "code",
   "execution_count": 168,
   "metadata": {},
   "outputs": [],
   "source": [
    "#Copying of data frame\n",
    "df4=df3.copy()"
   ]
  },
  {
   "cell_type": "code",
   "execution_count": 169,
   "metadata": {},
   "outputs": [],
   "source": [
    "#As every row of Body has\"</p>\\n\\n<p>\" striiping it of from each row\n",
    "df3[\"Body\"]=df3[\"Body\"].str.split(\"</p>\\n\\n<p>\").str.join('')\n"
   ]
  },
  {
   "cell_type": "code",
   "execution_count": 170,
   "metadata": {},
   "outputs": [],
   "source": [
    "df5=df3.copy()"
   ]
  },
  {
   "cell_type": "code",
   "execution_count": 171,
   "metadata": {},
   "outputs": [],
   "source": [
    "df3[\"Body\"]=df3[\"Body\"].str.split(\"<p>\").str.join('')\n",
    "df6=df3.copy()"
   ]
  },
  {
   "cell_type": "code",
   "execution_count": 172,
   "metadata": {},
   "outputs": [
    {
     "data": {
      "text/html": [
       "<div>\n",
       "<style scoped>\n",
       "    .dataframe tbody tr th:only-of-type {\n",
       "        vertical-align: middle;\n",
       "    }\n",
       "\n",
       "    .dataframe tbody tr th {\n",
       "        vertical-align: top;\n",
       "    }\n",
       "\n",
       "    .dataframe thead th {\n",
       "        text-align: right;\n",
       "    }\n",
       "</style>\n",
       "<table border=\"1\" class=\"dataframe\">\n",
       "  <thead>\n",
       "    <tr style=\"text-align: right;\">\n",
       "      <th></th>\n",
       "      <th>Body</th>\n",
       "      <th>CommentCount</th>\n",
       "      <th>Score</th>\n",
       "      <th>Title</th>\n",
       "      <th>ViewCount</th>\n",
       "    </tr>\n",
       "  </thead>\n",
       "  <tbody>\n",
       "    <tr>\n",
       "      <th>0</th>\n",
       "      <td>I often hear about subatomic particles having ...</td>\n",
       "      <td>5</td>\n",
       "      <td>76</td>\n",
       "      <td>What is spin as it relates to subatomic partic...</td>\n",
       "      <td>13803</td>\n",
       "    </tr>\n",
       "    <tr>\n",
       "      <th>1</th>\n",
       "      <td>How would you explain string theory to non phy...</td>\n",
       "      <td>4</td>\n",
       "      <td>29</td>\n",
       "      <td>What is your simplest explanation of the strin...</td>\n",
       "      <td>2641</td>\n",
       "    </tr>\n",
       "    <tr>\n",
       "      <th>2</th>\n",
       "      <td>This is a question that has been posted at man...</td>\n",
       "      <td>5</td>\n",
       "      <td>35</td>\n",
       "      <td>Lie theory, Representations and particle physics</td>\n",
       "      <td>2412</td>\n",
       "    </tr>\n",
       "    <tr>\n",
       "      <th>3</th>\n",
       "      <td>What are the main problems that we need to sol...</td>\n",
       "      <td>5</td>\n",
       "      <td>10</td>\n",
       "      <td>Will Determinism be ever possible?</td>\n",
       "      <td>2033</td>\n",
       "    </tr>\n",
       "    <tr>\n",
       "      <th>4</th>\n",
       "      <td>Hamilton's principle states that a dynamic sys...</td>\n",
       "      <td>2</td>\n",
       "      <td>48</td>\n",
       "      <td>Hamilton's Principle</td>\n",
       "      <td>9277</td>\n",
       "    </tr>\n",
       "  </tbody>\n",
       "</table>\n",
       "</div>"
      ],
      "text/plain": [
       "                                                Body  CommentCount  Score  \\\n",
       "0  I often hear about subatomic particles having ...             5     76   \n",
       "1  How would you explain string theory to non phy...             4     29   \n",
       "2  This is a question that has been posted at man...             5     35   \n",
       "3  What are the main problems that we need to sol...             5     10   \n",
       "4  Hamilton's principle states that a dynamic sys...             2     48   \n",
       "\n",
       "                                               Title  ViewCount  \n",
       "0  What is spin as it relates to subatomic partic...      13803  \n",
       "1  What is your simplest explanation of the strin...       2641  \n",
       "2   Lie theory, Representations and particle physics       2412  \n",
       "3                 Will Determinism be ever possible?       2033  \n",
       "4                               Hamilton's Principle       9277  "
      ]
     },
     "execution_count": 172,
     "metadata": {},
     "output_type": "execute_result"
    }
   ],
   "source": [
    "df3.head()"
   ]
  },
  {
   "cell_type": "code",
   "execution_count": 173,
   "metadata": {},
   "outputs": [],
   "source": [
    "#Removing html tags from the data\n",
    "import re\n",
    "def pattern1(s):\n",
    "    s=str(s)\n",
    "    a=[]\n",
    "    pattern = r'href=\"([^\"]*)\"'\n",
    "    for i in s.split():\n",
    "        if not re.search(pattern,i):\n",
    "            a.append(i)\n",
    "    return(\" \".join(a))\n",
    "        \n"
   ]
  },
  {
   "cell_type": "code",
   "execution_count": 174,
   "metadata": {},
   "outputs": [],
   "source": [
    "df3[\"Body\"]=df3[\"Body\"].apply(pattern1)"
   ]
  },
  {
   "cell_type": "code",
   "execution_count": 175,
   "metadata": {},
   "outputs": [],
   "source": [
    "df7=df3.copy()"
   ]
  },
  {
   "cell_type": "code",
   "execution_count": 176,
   "metadata": {},
   "outputs": [
    {
     "data": {
      "text/html": [
       "<div>\n",
       "<style scoped>\n",
       "    .dataframe tbody tr th:only-of-type {\n",
       "        vertical-align: middle;\n",
       "    }\n",
       "\n",
       "    .dataframe tbody tr th {\n",
       "        vertical-align: top;\n",
       "    }\n",
       "\n",
       "    .dataframe thead th {\n",
       "        text-align: right;\n",
       "    }\n",
       "</style>\n",
       "<table border=\"1\" class=\"dataframe\">\n",
       "  <thead>\n",
       "    <tr style=\"text-align: right;\">\n",
       "      <th></th>\n",
       "      <th>Body</th>\n",
       "      <th>CommentCount</th>\n",
       "      <th>Score</th>\n",
       "      <th>Title</th>\n",
       "      <th>ViewCount</th>\n",
       "    </tr>\n",
       "  </thead>\n",
       "  <tbody>\n",
       "    <tr>\n",
       "      <th>0</th>\n",
       "      <td>I often hear about subatomic particles having ...</td>\n",
       "      <td>5</td>\n",
       "      <td>76</td>\n",
       "      <td>What is spin as it relates to subatomic partic...</td>\n",
       "      <td>13803</td>\n",
       "    </tr>\n",
       "    <tr>\n",
       "      <th>1</th>\n",
       "      <td>How would you explain string theory to non phy...</td>\n",
       "      <td>4</td>\n",
       "      <td>29</td>\n",
       "      <td>What is your simplest explanation of the strin...</td>\n",
       "      <td>2641</td>\n",
       "    </tr>\n",
       "    <tr>\n",
       "      <th>2</th>\n",
       "      <td>This is a question that has been posted at man...</td>\n",
       "      <td>5</td>\n",
       "      <td>35</td>\n",
       "      <td>Lie theory, Representations and particle physics</td>\n",
       "      <td>2412</td>\n",
       "    </tr>\n",
       "    <tr>\n",
       "      <th>3</th>\n",
       "      <td>What are the main problems that we need to sol...</td>\n",
       "      <td>5</td>\n",
       "      <td>10</td>\n",
       "      <td>Will Determinism be ever possible?</td>\n",
       "      <td>2033</td>\n",
       "    </tr>\n",
       "    <tr>\n",
       "      <th>4</th>\n",
       "      <td>Hamilton's principle states that a dynamic sys...</td>\n",
       "      <td>2</td>\n",
       "      <td>48</td>\n",
       "      <td>Hamilton's Principle</td>\n",
       "      <td>9277</td>\n",
       "    </tr>\n",
       "  </tbody>\n",
       "</table>\n",
       "</div>"
      ],
      "text/plain": [
       "                                                Body  CommentCount  Score  \\\n",
       "0  I often hear about subatomic particles having ...             5     76   \n",
       "1  How would you explain string theory to non phy...             4     29   \n",
       "2  This is a question that has been posted at man...             5     35   \n",
       "3  What are the main problems that we need to sol...             5     10   \n",
       "4  Hamilton's principle states that a dynamic sys...             2     48   \n",
       "\n",
       "                                               Title  ViewCount  \n",
       "0  What is spin as it relates to subatomic partic...      13803  \n",
       "1  What is your simplest explanation of the strin...       2641  \n",
       "2   Lie theory, Representations and particle physics       2412  \n",
       "3                 Will Determinism be ever possible?       2033  \n",
       "4                               Hamilton's Principle       9277  "
      ]
     },
     "execution_count": 176,
     "metadata": {},
     "output_type": "execute_result"
    }
   ],
   "source": [
    "df7.head()"
   ]
  },
  {
   "cell_type": "code",
   "execution_count": 177,
   "metadata": {},
   "outputs": [],
   "source": [
    "df3[\"Body\"]=df3[\"Body\"].str.split(\"</p>\\n\").str.join('')\n"
   ]
  },
  {
   "cell_type": "code",
   "execution_count": 178,
   "metadata": {},
   "outputs": [],
   "source": [
    "df3[\"Body\"]=df3[\"Body\"].str.split(\"<a\").str.join('').str.split(\"</a>\").str.join('')\n"
   ]
  },
  {
   "cell_type": "code",
   "execution_count": 179,
   "metadata": {},
   "outputs": [],
   "source": [
    "df8=df3.copy()"
   ]
  },
  {
   "cell_type": "code",
   "execution_count": 180,
   "metadata": {},
   "outputs": [
    {
     "data": {
      "text/html": [
       "<div>\n",
       "<style scoped>\n",
       "    .dataframe tbody tr th:only-of-type {\n",
       "        vertical-align: middle;\n",
       "    }\n",
       "\n",
       "    .dataframe tbody tr th {\n",
       "        vertical-align: top;\n",
       "    }\n",
       "\n",
       "    .dataframe thead th {\n",
       "        text-align: right;\n",
       "    }\n",
       "</style>\n",
       "<table border=\"1\" class=\"dataframe\">\n",
       "  <thead>\n",
       "    <tr style=\"text-align: right;\">\n",
       "      <th></th>\n",
       "      <th>Body</th>\n",
       "      <th>CommentCount</th>\n",
       "      <th>Score</th>\n",
       "      <th>Title</th>\n",
       "      <th>ViewCount</th>\n",
       "    </tr>\n",
       "  </thead>\n",
       "  <tbody>\n",
       "    <tr>\n",
       "      <th>0</th>\n",
       "      <td>I often hear about subatomic particles having ...</td>\n",
       "      <td>5</td>\n",
       "      <td>76</td>\n",
       "      <td>What is spin as it relates to subatomic partic...</td>\n",
       "      <td>13803</td>\n",
       "    </tr>\n",
       "    <tr>\n",
       "      <th>1</th>\n",
       "      <td>How would you explain string theory to non phy...</td>\n",
       "      <td>4</td>\n",
       "      <td>29</td>\n",
       "      <td>What is your simplest explanation of the strin...</td>\n",
       "      <td>2641</td>\n",
       "    </tr>\n",
       "    <tr>\n",
       "      <th>2</th>\n",
       "      <td>This is a question that has been posted at man...</td>\n",
       "      <td>5</td>\n",
       "      <td>35</td>\n",
       "      <td>Lie theory, Representations and particle physics</td>\n",
       "      <td>2412</td>\n",
       "    </tr>\n",
       "    <tr>\n",
       "      <th>3</th>\n",
       "      <td>What are the main problems that we need to sol...</td>\n",
       "      <td>5</td>\n",
       "      <td>10</td>\n",
       "      <td>Will Determinism be ever possible?</td>\n",
       "      <td>2033</td>\n",
       "    </tr>\n",
       "    <tr>\n",
       "      <th>4</th>\n",
       "      <td>Hamilton's principle states that a dynamic sys...</td>\n",
       "      <td>2</td>\n",
       "      <td>48</td>\n",
       "      <td>Hamilton's Principle</td>\n",
       "      <td>9277</td>\n",
       "    </tr>\n",
       "  </tbody>\n",
       "</table>\n",
       "</div>"
      ],
      "text/plain": [
       "                                                Body  CommentCount  Score  \\\n",
       "0  I often hear about subatomic particles having ...             5     76   \n",
       "1  How would you explain string theory to non phy...             4     29   \n",
       "2  This is a question that has been posted at man...             5     35   \n",
       "3  What are the main problems that we need to sol...             5     10   \n",
       "4  Hamilton's principle states that a dynamic sys...             2     48   \n",
       "\n",
       "                                               Title  ViewCount  \n",
       "0  What is spin as it relates to subatomic partic...      13803  \n",
       "1  What is your simplest explanation of the strin...       2641  \n",
       "2   Lie theory, Representations and particle physics       2412  \n",
       "3                 Will Determinism be ever possible?       2033  \n",
       "4                               Hamilton's Principle       9277  "
      ]
     },
     "execution_count": 180,
     "metadata": {},
     "output_type": "execute_result"
    }
   ],
   "source": [
    "#Clean data \n",
    "df3.head()"
   ]
  },
  {
   "cell_type": "code",
   "execution_count": 181,
   "metadata": {},
   "outputs": [
    {
     "data": {
      "text/plain": [
       "Body            0\n",
       "CommentCount    0\n",
       "Score           0\n",
       "Title           0\n",
       "ViewCount       0\n",
       "dtype: int64"
      ]
     },
     "execution_count": 181,
     "metadata": {},
     "output_type": "execute_result"
    }
   ],
   "source": [
    "df3.isnull().sum()"
   ]
  },
  {
   "cell_type": "code",
   "execution_count": 182,
   "metadata": {},
   "outputs": [],
   "source": [
    "#Making new variable with body length\n",
    "df3[\"Body_len\"]=df3[\"Body\"].str.split().str.len()"
   ]
  },
  {
   "cell_type": "code",
   "execution_count": 183,
   "metadata": {},
   "outputs": [
    {
     "data": {
      "text/html": [
       "<div>\n",
       "<style scoped>\n",
       "    .dataframe tbody tr th:only-of-type {\n",
       "        vertical-align: middle;\n",
       "    }\n",
       "\n",
       "    .dataframe tbody tr th {\n",
       "        vertical-align: top;\n",
       "    }\n",
       "\n",
       "    .dataframe thead th {\n",
       "        text-align: right;\n",
       "    }\n",
       "</style>\n",
       "<table border=\"1\" class=\"dataframe\">\n",
       "  <thead>\n",
       "    <tr style=\"text-align: right;\">\n",
       "      <th></th>\n",
       "      <th>Body</th>\n",
       "      <th>CommentCount</th>\n",
       "      <th>Score</th>\n",
       "      <th>Title</th>\n",
       "      <th>ViewCount</th>\n",
       "      <th>Body_len</th>\n",
       "    </tr>\n",
       "  </thead>\n",
       "  <tbody>\n",
       "    <tr>\n",
       "      <th>0</th>\n",
       "      <td>I often hear about subatomic particles having ...</td>\n",
       "      <td>5</td>\n",
       "      <td>76</td>\n",
       "      <td>What is spin as it relates to subatomic partic...</td>\n",
       "      <td>13803</td>\n",
       "      <td>41</td>\n",
       "    </tr>\n",
       "    <tr>\n",
       "      <th>1</th>\n",
       "      <td>How would you explain string theory to non phy...</td>\n",
       "      <td>4</td>\n",
       "      <td>29</td>\n",
       "      <td>What is your simplest explanation of the strin...</td>\n",
       "      <td>2641</td>\n",
       "      <td>28</td>\n",
       "    </tr>\n",
       "    <tr>\n",
       "      <th>2</th>\n",
       "      <td>This is a question that has been posted at man...</td>\n",
       "      <td>5</td>\n",
       "      <td>35</td>\n",
       "      <td>Lie theory, Representations and particle physics</td>\n",
       "      <td>2412</td>\n",
       "      <td>147</td>\n",
       "    </tr>\n",
       "    <tr>\n",
       "      <th>3</th>\n",
       "      <td>What are the main problems that we need to sol...</td>\n",
       "      <td>5</td>\n",
       "      <td>10</td>\n",
       "      <td>Will Determinism be ever possible?</td>\n",
       "      <td>2033</td>\n",
       "      <td>20</td>\n",
       "    </tr>\n",
       "    <tr>\n",
       "      <th>4</th>\n",
       "      <td>Hamilton's principle states that a dynamic sys...</td>\n",
       "      <td>2</td>\n",
       "      <td>48</td>\n",
       "      <td>Hamilton's Principle</td>\n",
       "      <td>9277</td>\n",
       "      <td>38</td>\n",
       "    </tr>\n",
       "  </tbody>\n",
       "</table>\n",
       "</div>"
      ],
      "text/plain": [
       "                                                Body  CommentCount  Score  \\\n",
       "0  I often hear about subatomic particles having ...             5     76   \n",
       "1  How would you explain string theory to non phy...             4     29   \n",
       "2  This is a question that has been posted at man...             5     35   \n",
       "3  What are the main problems that we need to sol...             5     10   \n",
       "4  Hamilton's principle states that a dynamic sys...             2     48   \n",
       "\n",
       "                                               Title  ViewCount  Body_len  \n",
       "0  What is spin as it relates to subatomic partic...      13803        41  \n",
       "1  What is your simplest explanation of the strin...       2641        28  \n",
       "2   Lie theory, Representations and particle physics       2412       147  \n",
       "3                 Will Determinism be ever possible?       2033        20  \n",
       "4                               Hamilton's Principle       9277        38  "
      ]
     },
     "execution_count": 183,
     "metadata": {},
     "output_type": "execute_result"
    }
   ],
   "source": [
    "df3.head()"
   ]
  },
  {
   "cell_type": "code",
   "execution_count": 184,
   "metadata": {},
   "outputs": [],
   "source": [
    "df3.to_csv('new.csv', index=False,encoding='utf-8')"
   ]
  },
  {
   "cell_type": "code",
   "execution_count": 185,
   "metadata": {},
   "outputs": [],
   "source": [
    "#Counting no of words in title\n",
    "def check2(s):\n",
    "    s=s.split()\n",
    "    a=[]\n",
    "    for i in s:\n",
    "        if i.isalnum():\n",
    "            a.append(i)\n",
    "    return len(a)"
   ]
  },
  {
   "cell_type": "code",
   "execution_count": 186,
   "metadata": {},
   "outputs": [],
   "source": [
    "df3[\"Title_len\"]=df3[\"Title\"].apply(check2)"
   ]
  },
  {
   "cell_type": "code",
   "execution_count": 187,
   "metadata": {},
   "outputs": [
    {
     "data": {
      "text/html": [
       "<div>\n",
       "<style scoped>\n",
       "    .dataframe tbody tr th:only-of-type {\n",
       "        vertical-align: middle;\n",
       "    }\n",
       "\n",
       "    .dataframe tbody tr th {\n",
       "        vertical-align: top;\n",
       "    }\n",
       "\n",
       "    .dataframe thead th {\n",
       "        text-align: right;\n",
       "    }\n",
       "</style>\n",
       "<table border=\"1\" class=\"dataframe\">\n",
       "  <thead>\n",
       "    <tr style=\"text-align: right;\">\n",
       "      <th></th>\n",
       "      <th>Body</th>\n",
       "      <th>CommentCount</th>\n",
       "      <th>Score</th>\n",
       "      <th>Title</th>\n",
       "      <th>ViewCount</th>\n",
       "      <th>Body_len</th>\n",
       "      <th>Title_len</th>\n",
       "    </tr>\n",
       "  </thead>\n",
       "  <tbody>\n",
       "    <tr>\n",
       "      <th>0</th>\n",
       "      <td>I often hear about subatomic particles having ...</td>\n",
       "      <td>5</td>\n",
       "      <td>76</td>\n",
       "      <td>What is spin as it relates to subatomic partic...</td>\n",
       "      <td>13803</td>\n",
       "      <td>41</td>\n",
       "      <td>8</td>\n",
       "    </tr>\n",
       "    <tr>\n",
       "      <th>1</th>\n",
       "      <td>How would you explain string theory to non phy...</td>\n",
       "      <td>4</td>\n",
       "      <td>29</td>\n",
       "      <td>What is your simplest explanation of the strin...</td>\n",
       "      <td>2641</td>\n",
       "      <td>28</td>\n",
       "      <td>8</td>\n",
       "    </tr>\n",
       "    <tr>\n",
       "      <th>2</th>\n",
       "      <td>This is a question that has been posted at man...</td>\n",
       "      <td>5</td>\n",
       "      <td>35</td>\n",
       "      <td>Lie theory, Representations and particle physics</td>\n",
       "      <td>2412</td>\n",
       "      <td>147</td>\n",
       "      <td>5</td>\n",
       "    </tr>\n",
       "    <tr>\n",
       "      <th>3</th>\n",
       "      <td>What are the main problems that we need to sol...</td>\n",
       "      <td>5</td>\n",
       "      <td>10</td>\n",
       "      <td>Will Determinism be ever possible?</td>\n",
       "      <td>2033</td>\n",
       "      <td>20</td>\n",
       "      <td>4</td>\n",
       "    </tr>\n",
       "    <tr>\n",
       "      <th>4</th>\n",
       "      <td>Hamilton's principle states that a dynamic sys...</td>\n",
       "      <td>2</td>\n",
       "      <td>48</td>\n",
       "      <td>Hamilton's Principle</td>\n",
       "      <td>9277</td>\n",
       "      <td>38</td>\n",
       "      <td>1</td>\n",
       "    </tr>\n",
       "  </tbody>\n",
       "</table>\n",
       "</div>"
      ],
      "text/plain": [
       "                                                Body  CommentCount  Score  \\\n",
       "0  I often hear about subatomic particles having ...             5     76   \n",
       "1  How would you explain string theory to non phy...             4     29   \n",
       "2  This is a question that has been posted at man...             5     35   \n",
       "3  What are the main problems that we need to sol...             5     10   \n",
       "4  Hamilton's principle states that a dynamic sys...             2     48   \n",
       "\n",
       "                                               Title  ViewCount  Body_len  \\\n",
       "0  What is spin as it relates to subatomic partic...      13803        41   \n",
       "1  What is your simplest explanation of the strin...       2641        28   \n",
       "2   Lie theory, Representations and particle physics       2412       147   \n",
       "3                 Will Determinism be ever possible?       2033        20   \n",
       "4                               Hamilton's Principle       9277        38   \n",
       "\n",
       "   Title_len  \n",
       "0          8  \n",
       "1          8  \n",
       "2          5  \n",
       "3          4  \n",
       "4          1  "
      ]
     },
     "execution_count": 187,
     "metadata": {},
     "output_type": "execute_result"
    }
   ],
   "source": [
    "df3.head()"
   ]
  },
  {
   "cell_type": "code",
   "execution_count": 188,
   "metadata": {},
   "outputs": [],
   "source": [
    "#dropping body and title column i.e text column from data frame\n",
    "df3=df3.drop(['Body','Title'], axis=1)"
   ]
  },
  {
   "cell_type": "code",
   "execution_count": 189,
   "metadata": {},
   "outputs": [
    {
     "name": "stdout",
     "output_type": "stream",
     "text": [
      "<class 'pandas.core.frame.DataFrame'>\n",
      "RangeIndex: 119408 entries, 0 to 119407\n",
      "Data columns (total 5 columns):\n",
      "CommentCount    119408 non-null int64\n",
      "Score           119408 non-null int64\n",
      "ViewCount       119408 non-null int64\n",
      "Body_len        119408 non-null int64\n",
      "Title_len       119408 non-null int64\n",
      "dtypes: int64(5)\n",
      "memory usage: 4.6 MB\n"
     ]
    }
   ],
   "source": [
    "df3.info()"
   ]
  },
  {
   "cell_type": "code",
   "execution_count": 194,
   "metadata": {},
   "outputs": [
    {
     "data": {
      "text/html": [
       "<div>\n",
       "<style scoped>\n",
       "    .dataframe tbody tr th:only-of-type {\n",
       "        vertical-align: middle;\n",
       "    }\n",
       "\n",
       "    .dataframe tbody tr th {\n",
       "        vertical-align: top;\n",
       "    }\n",
       "\n",
       "    .dataframe thead th {\n",
       "        text-align: right;\n",
       "    }\n",
       "</style>\n",
       "<table border=\"1\" class=\"dataframe\">\n",
       "  <thead>\n",
       "    <tr style=\"text-align: right;\">\n",
       "      <th></th>\n",
       "      <th>CommentCount</th>\n",
       "      <th>Score</th>\n",
       "      <th>ViewCount</th>\n",
       "      <th>Body_len</th>\n",
       "      <th>Title_len</th>\n",
       "    </tr>\n",
       "  </thead>\n",
       "  <tbody>\n",
       "    <tr>\n",
       "      <th>0</th>\n",
       "      <td>5</td>\n",
       "      <td>76</td>\n",
       "      <td>13803</td>\n",
       "      <td>41</td>\n",
       "      <td>8</td>\n",
       "    </tr>\n",
       "    <tr>\n",
       "      <th>1</th>\n",
       "      <td>4</td>\n",
       "      <td>29</td>\n",
       "      <td>2641</td>\n",
       "      <td>28</td>\n",
       "      <td>8</td>\n",
       "    </tr>\n",
       "    <tr>\n",
       "      <th>2</th>\n",
       "      <td>5</td>\n",
       "      <td>35</td>\n",
       "      <td>2412</td>\n",
       "      <td>147</td>\n",
       "      <td>5</td>\n",
       "    </tr>\n",
       "    <tr>\n",
       "      <th>3</th>\n",
       "      <td>5</td>\n",
       "      <td>10</td>\n",
       "      <td>2033</td>\n",
       "      <td>20</td>\n",
       "      <td>4</td>\n",
       "    </tr>\n",
       "    <tr>\n",
       "      <th>4</th>\n",
       "      <td>2</td>\n",
       "      <td>48</td>\n",
       "      <td>9277</td>\n",
       "      <td>38</td>\n",
       "      <td>1</td>\n",
       "    </tr>\n",
       "  </tbody>\n",
       "</table>\n",
       "</div>"
      ],
      "text/plain": [
       "   CommentCount  Score  ViewCount  Body_len  Title_len\n",
       "0             5     76      13803        41          8\n",
       "1             4     29       2641        28          8\n",
       "2             5     35       2412       147          5\n",
       "3             5     10       2033        20          4\n",
       "4             2     48       9277        38          1"
      ]
     },
     "execution_count": 194,
     "metadata": {},
     "output_type": "execute_result"
    }
   ],
   "source": [
    "df3.head()"
   ]
  },
  {
   "cell_type": "code",
   "execution_count": 190,
   "metadata": {},
   "outputs": [],
   "source": [
    "#saving file to new df\n",
    "df3.to_csv('final.csv',index=False,encoding='utf-8')"
   ]
  },
  {
   "cell_type": "code",
   "execution_count": 193,
   "metadata": {},
   "outputs": [
    {
     "data": {
      "text/plain": [
       "(119408, 5)"
      ]
     },
     "execution_count": 193,
     "metadata": {},
     "output_type": "execute_result"
    }
   ],
   "source": [
    "df3.shape"
   ]
  },
  {
   "cell_type": "code",
   "execution_count": 34,
   "metadata": {},
   "outputs": [],
   "source": [
    "#Checking comment count\n",
    "def check3(df3):\n",
    "    if df3[\"Score\"]>5 and df3[\"CommentCount\"]>0:\n",
    "        return 3\n",
    "    elif  (df3[\"Score\"]>=0 and df3[\"Score\"]<=5) and df3[\"CommentCount\"]==0: \n",
    "        return 2\n",
    "    elif df3[\"Score\"]<0:\n",
    "        return 1\n",
    "    else:\n",
    "        return \"Zero\""
   ]
  },
  {
   "cell_type": "code",
   "execution_count": 35,
   "metadata": {},
   "outputs": [],
   "source": [
    "df[\"Qualit\"]=df.apply(check3,axis=1)"
   ]
  },
  {
   "cell_type": "code",
   "execution_count": 206,
   "metadata": {},
   "outputs": [
    {
     "data": {
      "text/html": [
       "<div>\n",
       "<style scoped>\n",
       "    .dataframe tbody tr th:only-of-type {\n",
       "        vertical-align: middle;\n",
       "    }\n",
       "\n",
       "    .dataframe tbody tr th {\n",
       "        vertical-align: top;\n",
       "    }\n",
       "\n",
       "    .dataframe thead th {\n",
       "        text-align: right;\n",
       "    }\n",
       "</style>\n",
       "<table border=\"1\" class=\"dataframe\">\n",
       "  <thead>\n",
       "    <tr style=\"text-align: right;\">\n",
       "      <th></th>\n",
       "      <th>CommentCount</th>\n",
       "      <th>Score</th>\n",
       "      <th>ViewCount</th>\n",
       "      <th>Body_len</th>\n",
       "      <th>Title_len</th>\n",
       "    </tr>\n",
       "  </thead>\n",
       "  <tbody>\n",
       "    <tr>\n",
       "      <th>count</th>\n",
       "      <td>6845.000000</td>\n",
       "      <td>6845.000000</td>\n",
       "      <td>6845.000000</td>\n",
       "      <td>6845.000000</td>\n",
       "      <td>6845.000000</td>\n",
       "    </tr>\n",
       "    <tr>\n",
       "      <th>mean</th>\n",
       "      <td>3.032725</td>\n",
       "      <td>-1.746969</td>\n",
       "      <td>828.942001</td>\n",
       "      <td>100.497151</td>\n",
       "      <td>7.942586</td>\n",
       "    </tr>\n",
       "    <tr>\n",
       "      <th>std</th>\n",
       "      <td>3.117105</td>\n",
       "      <td>1.392964</td>\n",
       "      <td>3969.682139</td>\n",
       "      <td>106.938867</td>\n",
       "      <td>4.371893</td>\n",
       "    </tr>\n",
       "    <tr>\n",
       "      <th>min</th>\n",
       "      <td>0.000000</td>\n",
       "      <td>-24.000000</td>\n",
       "      <td>6.000000</td>\n",
       "      <td>5.000000</td>\n",
       "      <td>0.000000</td>\n",
       "    </tr>\n",
       "    <tr>\n",
       "      <th>25%</th>\n",
       "      <td>1.000000</td>\n",
       "      <td>-2.000000</td>\n",
       "      <td>85.000000</td>\n",
       "      <td>40.000000</td>\n",
       "      <td>5.000000</td>\n",
       "    </tr>\n",
       "    <tr>\n",
       "      <th>50%</th>\n",
       "      <td>2.000000</td>\n",
       "      <td>-1.000000</td>\n",
       "      <td>176.000000</td>\n",
       "      <td>71.000000</td>\n",
       "      <td>7.000000</td>\n",
       "    </tr>\n",
       "    <tr>\n",
       "      <th>75%</th>\n",
       "      <td>4.000000</td>\n",
       "      <td>-1.000000</td>\n",
       "      <td>469.000000</td>\n",
       "      <td>125.000000</td>\n",
       "      <td>10.000000</td>\n",
       "    </tr>\n",
       "    <tr>\n",
       "      <th>max</th>\n",
       "      <td>33.000000</td>\n",
       "      <td>-1.000000</td>\n",
       "      <td>110196.000000</td>\n",
       "      <td>1973.000000</td>\n",
       "      <td>30.000000</td>\n",
       "    </tr>\n",
       "  </tbody>\n",
       "</table>\n",
       "</div>"
      ],
      "text/plain": [
       "       CommentCount        Score      ViewCount     Body_len    Title_len\n",
       "count   6845.000000  6845.000000    6845.000000  6845.000000  6845.000000\n",
       "mean       3.032725    -1.746969     828.942001   100.497151     7.942586\n",
       "std        3.117105     1.392964    3969.682139   106.938867     4.371893\n",
       "min        0.000000   -24.000000       6.000000     5.000000     0.000000\n",
       "25%        1.000000    -2.000000      85.000000    40.000000     5.000000\n",
       "50%        2.000000    -1.000000     176.000000    71.000000     7.000000\n",
       "75%        4.000000    -1.000000     469.000000   125.000000    10.000000\n",
       "max       33.000000    -1.000000  110196.000000  1973.000000    30.000000"
      ]
     },
     "execution_count": 206,
     "metadata": {},
     "output_type": "execute_result"
    }
   ],
   "source": [
    "df3[df3[\"Qualit\"]==\"very Low\"].describe()"
   ]
  },
  {
   "cell_type": "code",
   "execution_count": 202,
   "metadata": {},
   "outputs": [
    {
     "data": {
      "text/plain": [
       "CommentCount        0\n",
       "Score               0\n",
       "ViewCount           0\n",
       "Body_len            0\n",
       "Title_len           0\n",
       "Qualit          69756\n",
       "dtype: int64"
      ]
     },
     "execution_count": 202,
     "metadata": {},
     "output_type": "execute_result"
    }
   ],
   "source": [
    "df3.isnull().sum()"
   ]
  },
  {
   "cell_type": "code",
   "execution_count": 222,
   "metadata": {},
   "outputs": [
    {
     "data": {
      "text/html": [
       "<div>\n",
       "<style scoped>\n",
       "    .dataframe tbody tr th:only-of-type {\n",
       "        vertical-align: middle;\n",
       "    }\n",
       "\n",
       "    .dataframe tbody tr th {\n",
       "        vertical-align: top;\n",
       "    }\n",
       "\n",
       "    .dataframe thead th {\n",
       "        text-align: right;\n",
       "    }\n",
       "</style>\n",
       "<table border=\"1\" class=\"dataframe\">\n",
       "  <thead>\n",
       "    <tr style=\"text-align: right;\">\n",
       "      <th></th>\n",
       "      <th>CommentCount</th>\n",
       "      <th>Score</th>\n",
       "      <th>ViewCount</th>\n",
       "      <th>Body_len</th>\n",
       "      <th>Title_len</th>\n",
       "    </tr>\n",
       "  </thead>\n",
       "  <tbody>\n",
       "    <tr>\n",
       "      <th>count</th>\n",
       "      <td>69756.000000</td>\n",
       "      <td>69756.000000</td>\n",
       "      <td>69756.000000</td>\n",
       "      <td>69756.000000</td>\n",
       "      <td>69756.000000</td>\n",
       "    </tr>\n",
       "    <tr>\n",
       "      <th>mean</th>\n",
       "      <td>3.167011</td>\n",
       "      <td>2.001204</td>\n",
       "      <td>1185.371452</td>\n",
       "      <td>128.492388</td>\n",
       "      <td>7.898088</td>\n",
       "    </tr>\n",
       "    <tr>\n",
       "      <th>std</th>\n",
       "      <td>2.727834</td>\n",
       "      <td>3.812688</td>\n",
       "      <td>6025.816606</td>\n",
       "      <td>109.535408</td>\n",
       "      <td>3.941578</td>\n",
       "    </tr>\n",
       "    <tr>\n",
       "      <th>min</th>\n",
       "      <td>0.000000</td>\n",
       "      <td>0.000000</td>\n",
       "      <td>7.000000</td>\n",
       "      <td>6.000000</td>\n",
       "      <td>0.000000</td>\n",
       "    </tr>\n",
       "    <tr>\n",
       "      <th>25%</th>\n",
       "      <td>1.000000</td>\n",
       "      <td>0.000000</td>\n",
       "      <td>107.000000</td>\n",
       "      <td>58.000000</td>\n",
       "      <td>5.000000</td>\n",
       "    </tr>\n",
       "    <tr>\n",
       "      <th>50%</th>\n",
       "      <td>2.000000</td>\n",
       "      <td>1.000000</td>\n",
       "      <td>261.000000</td>\n",
       "      <td>99.000000</td>\n",
       "      <td>7.000000</td>\n",
       "    </tr>\n",
       "    <tr>\n",
       "      <th>75%</th>\n",
       "      <td>4.000000</td>\n",
       "      <td>3.000000</td>\n",
       "      <td>732.000000</td>\n",
       "      <td>163.000000</td>\n",
       "      <td>10.000000</td>\n",
       "    </tr>\n",
       "    <tr>\n",
       "      <th>max</th>\n",
       "      <td>35.000000</td>\n",
       "      <td>239.000000</td>\n",
       "      <td>785052.000000</td>\n",
       "      <td>2293.000000</td>\n",
       "      <td>29.000000</td>\n",
       "    </tr>\n",
       "  </tbody>\n",
       "</table>\n",
       "</div>"
      ],
      "text/plain": [
       "       CommentCount         Score      ViewCount      Body_len     Title_len\n",
       "count  69756.000000  69756.000000   69756.000000  69756.000000  69756.000000\n",
       "mean       3.167011      2.001204    1185.371452    128.492388      7.898088\n",
       "std        2.727834      3.812688    6025.816606    109.535408      3.941578\n",
       "min        0.000000      0.000000       7.000000      6.000000      0.000000\n",
       "25%        1.000000      0.000000     107.000000     58.000000      5.000000\n",
       "50%        2.000000      1.000000     261.000000     99.000000      7.000000\n",
       "75%        4.000000      3.000000     732.000000    163.000000     10.000000\n",
       "max       35.000000    239.000000  785052.000000   2293.000000     29.000000"
      ]
     },
     "execution_count": 222,
     "metadata": {},
     "output_type": "execute_result"
    }
   ],
   "source": [
    "df3[df3[\"Qualit\"]==\"Zero\"].describe()"
   ]
  },
  {
   "cell_type": "code",
   "execution_count": 220,
   "metadata": {},
   "outputs": [
    {
     "data": {
      "text/plain": [
       "CommentCount    0\n",
       "Score           0\n",
       "ViewCount       0\n",
       "Body_len        0\n",
       "Title_len       0\n",
       "Qualit          0\n",
       "dtype: int64"
      ]
     },
     "execution_count": 220,
     "metadata": {},
     "output_type": "execute_result"
    }
   ],
   "source": [
    "df.isnull().sum()"
   ]
  },
  {
   "cell_type": "code",
   "execution_count": 1,
   "metadata": {},
   "outputs": [],
   "source": [
    "import pandas as pd"
   ]
  },
  {
   "cell_type": "code",
   "execution_count": 2,
   "metadata": {},
   "outputs": [],
   "source": [
    "df=pd.read_csv(\"final1.csv\")"
   ]
  },
  {
   "cell_type": "code",
   "execution_count": 3,
   "metadata": {},
   "outputs": [
    {
     "data": {
      "text/html": [
       "<div>\n",
       "<style scoped>\n",
       "    .dataframe tbody tr th:only-of-type {\n",
       "        vertical-align: middle;\n",
       "    }\n",
       "\n",
       "    .dataframe tbody tr th {\n",
       "        vertical-align: top;\n",
       "    }\n",
       "\n",
       "    .dataframe thead th {\n",
       "        text-align: right;\n",
       "    }\n",
       "</style>\n",
       "<table border=\"1\" class=\"dataframe\">\n",
       "  <thead>\n",
       "    <tr style=\"text-align: right;\">\n",
       "      <th></th>\n",
       "      <th>CommentCount</th>\n",
       "      <th>Score</th>\n",
       "      <th>ViewCount</th>\n",
       "      <th>Body_len</th>\n",
       "      <th>Title_len</th>\n",
       "      <th>Qualit</th>\n",
       "    </tr>\n",
       "  </thead>\n",
       "  <tbody>\n",
       "    <tr>\n",
       "      <th>0</th>\n",
       "      <td>5</td>\n",
       "      <td>76</td>\n",
       "      <td>13803</td>\n",
       "      <td>41</td>\n",
       "      <td>8</td>\n",
       "      <td>Good</td>\n",
       "    </tr>\n",
       "    <tr>\n",
       "      <th>1</th>\n",
       "      <td>4</td>\n",
       "      <td>29</td>\n",
       "      <td>2641</td>\n",
       "      <td>28</td>\n",
       "      <td>8</td>\n",
       "      <td>Good</td>\n",
       "    </tr>\n",
       "    <tr>\n",
       "      <th>2</th>\n",
       "      <td>5</td>\n",
       "      <td>35</td>\n",
       "      <td>2412</td>\n",
       "      <td>147</td>\n",
       "      <td>5</td>\n",
       "      <td>Good</td>\n",
       "    </tr>\n",
       "    <tr>\n",
       "      <th>3</th>\n",
       "      <td>5</td>\n",
       "      <td>10</td>\n",
       "      <td>2033</td>\n",
       "      <td>20</td>\n",
       "      <td>4</td>\n",
       "      <td>Good</td>\n",
       "    </tr>\n",
       "    <tr>\n",
       "      <th>4</th>\n",
       "      <td>2</td>\n",
       "      <td>48</td>\n",
       "      <td>9277</td>\n",
       "      <td>38</td>\n",
       "      <td>1</td>\n",
       "      <td>Good</td>\n",
       "    </tr>\n",
       "  </tbody>\n",
       "</table>\n",
       "</div>"
      ],
      "text/plain": [
       "   CommentCount  Score  ViewCount  Body_len  Title_len Qualit\n",
       "0             5     76      13803        41          8   Good\n",
       "1             4     29       2641        28          8   Good\n",
       "2             5     35       2412       147          5   Good\n",
       "3             5     10       2033        20          4   Good\n",
       "4             2     48       9277        38          1   Good"
      ]
     },
     "execution_count": 3,
     "metadata": {},
     "output_type": "execute_result"
    }
   ],
   "source": [
    "df.head()"
   ]
  },
  {
   "cell_type": "code",
   "execution_count": 116,
   "metadata": {},
   "outputs": [
    {
     "data": {
      "text/plain": [
       "count    49652.000000\n",
       "mean         1.393317\n",
       "std          2.813297\n",
       "min          0.000000\n",
       "25%          0.000000\n",
       "50%          0.000000\n",
       "75%          2.000000\n",
       "max         67.000000\n",
       "Name: CommentCount, dtype: float64"
      ]
     },
     "execution_count": 116,
     "metadata": {},
     "output_type": "execute_result"
    }
   ],
   "source": [
    "df[\"CommentCount\"].describe()"
   ]
  },
  {
   "cell_type": "code",
   "execution_count": 4,
   "metadata": {},
   "outputs": [
    {
     "data": {
      "image/png": "[encoded data removed]",
      "text/plain": [
       "<Figure size 432x288 with 1 Axes>"
      ]
     },
     "metadata": {
      "needs_background": "light"
     },
     "output_type": "display_data"
    }
   ],
   "source": [
    "sns.barplot(x=df['CommentCount'],y=df['ViewCount'])\n",
    "plt.xticks(rotation='vertical')\n",
    "plt.show()"
   ]
  },
  {
   "cell_type": "code",
   "execution_count": 5,
   "metadata": {},
   "outputs": [
    {
     "data": {
      "text/plain": [
       "0     32643\n",
       "1      3889\n",
       "2      3196\n",
       "3      2447\n",
       "4      1975\n",
       "5      1405\n",
       "6      1070\n",
       "7       784\n",
       "8       593\n",
       "9       406\n",
       "10      319\n",
       "11      201\n",
       "12      198\n",
       "14      126\n",
       "13      122\n",
       "15       68\n",
       "16       45\n",
       "17       42\n",
       "18       31\n",
       "20       18\n",
       "19       17\n",
       "23       11\n",
       "21        9\n",
       "22        7\n",
       "24        5\n",
       "25        4\n",
       "26        4\n",
       "27        4\n",
       "33        3\n",
       "30        2\n",
       "29        2\n",
       "64        1\n",
       "37        1\n",
       "28        1\n",
       "34        1\n",
       "67        1\n",
       "31        1\n",
       "Name: CommentCount, dtype: int64"
      ]
     },
     "execution_count": 5,
     "metadata": {},
     "output_type": "execute_result"
    }
   ],
   "source": [
    "df[\"CommentCount\"].value_counts()"
   ]
  },
  {
   "cell_type": "code",
   "execution_count": 5,
   "metadata": {},
   "outputs": [],
   "source": [
    "#converting comment count into particular bins\n",
    "def convert2(s):\n",
    "    if s>=15 and s<21:\n",
    "        return 3\n",
    "    elif s>=8 and s<15:\n",
    "        return 2\n",
    "    elif s>=0 and s<8:\n",
    "        return 1\n",
    "    else:\n",
    "        return 4"
   ]
  },
  {
   "cell_type": "code",
   "execution_count": 138,
   "metadata": {},
   "outputs": [
    {
     "name": "stdout",
     "output_type": "stream",
     "text": [
      "Collecting upgrade\n"
     ]
    },
    {
     "name": "stderr",
     "output_type": "stream",
     "text": [
      "DEPRECATION: Python 2.7 will reach the end of its life on January 1st, 2020. Please upgrade your Python as Python 2.7 won't be maintained after that date. A future version of pip will drop support for Python 2.7.\n",
      "  Could not find a version that satisfies the requirement upgrade (from versions: )\n",
      "No matching distribution found for upgrade\n"
     ]
    }
   ],
   "source": [
    "!pip install upgrade seaborn\n"
   ]
  },
  {
   "cell_type": "code",
   "execution_count": 6,
   "metadata": {},
   "outputs": [],
   "source": [
    "df[\"CommentCount\"]=df[\"CommentCount\"].apply(convert2)"
   ]
  },
  {
   "cell_type": "code",
   "execution_count": 8,
   "metadata": {},
   "outputs": [
    {
     "data": {
      "text/plain": [
       "<matplotlib.axes._subplots.AxesSubplot at 0xcb1d5f8>"
      ]
     },
     "execution_count": 8,
     "metadata": {},
     "output_type": "execute_result"
    },
    {
     "data": {
      "image/png": "[encoded data removed]",
      "text/plain": [
       "<Figure size 432x288 with 1 Axes>"
      ]
     },
     "metadata": {
      "needs_background": "light"
     },
     "output_type": "display_data"
    }
   ],
   "source": [
    "df[\"CommentCount\"].value_counts().plot(kind='bar')"
   ]
  },
  {
   "cell_type": "code",
   "execution_count": 113,
   "metadata": {},
   "outputs": [
    {
     "data": {
      "text/plain": [
       "count    49652.000000\n",
       "mean         4.121788\n",
       "std         11.107140\n",
       "min        -24.000000\n",
       "25%          0.000000\n",
       "50%          1.000000\n",
       "75%          5.000000\n",
       "max        682.000000\n",
       "Name: Score, dtype: float64"
      ]
     },
     "execution_count": 113,
     "metadata": {},
     "output_type": "execute_result"
    }
   ],
   "source": [
    "df[\"Score\"].describe()"
   ]
  },
  {
   "cell_type": "code",
   "execution_count": 112,
   "metadata": {},
   "outputs": [
    {
     "data": {
      "text/plain": [
       "<matplotlib.axes._subplots.AxesSubplot at 0x66b2dd30>"
      ]
     },
     "execution_count": 112,
     "metadata": {},
     "output_type": "execute_result"
    },
    {
     "data": {
      "image/png": "[encoded data removed]",
      "text/plain": [
       "<Figure size 432x288 with 1 Axes>"
      ]
     },
     "metadata": {
      "needs_background": "light"
     },
     "output_type": "display_data"
    }
   ],
   "source": [
    "#Plotting distplot for agecolumn\n",
    "df[\"Score\"].skew()\n",
    "sns.distplot(df['Score'])\n"
   ]
  },
  {
   "cell_type": "code",
   "execution_count": 110,
   "metadata": {},
   "outputs": [
    {
     "data": {
      "text/plain": [
       "<matplotlib.axes._subplots.AxesSubplot at 0x665c3e48>"
      ]
     },
     "execution_count": 110,
     "metadata": {},
     "output_type": "execute_result"
    },
    {
     "data": {
      "image/png": "[encoded data removed]",
      "text/plain": [
       "<Figure size 432x288 with 1 Axes>"
      ]
     },
     "metadata": {
      "needs_background": "light"
     },
     "output_type": "display_data"
    }
   ],
   "source": [
    "sns.scatterplot(x=df[\"Score\"],y=df[\"CommentCount\"],hue=df[\"Qualit\"])"
   ]
  },
  {
   "cell_type": "code",
   "execution_count": 115,
   "metadata": {},
   "outputs": [
    {
     "data": {
      "text/plain": [
       "<matplotlib.axes._subplots.AxesSubplot at 0x66b0eb00>"
      ]
     },
     "execution_count": 115,
     "metadata": {},
     "output_type": "execute_result"
    },
    {
     "data": {
      "image/png": "[encoded data removed]",
      "text/plain": [
       "<Figure size 432x288 with 1 Axes>"
      ]
     },
     "metadata": {
      "needs_background": "light"
     },
     "output_type": "display_data"
    }
   ],
   "source": [
    "import seaborn as sns\n",
    "from sklearn.preprocessing import FunctionTransformer\n",
    "import matplotlib.pyplot as plt\n",
    "sns.scatterplot(x=df[\"ViewCount\"]/10000,y=df[\"CommentCount\"],hue=df[\"Qualit\"])"
   ]
  },
  {
   "cell_type": "code",
   "execution_count": 21,
   "metadata": {},
   "outputs": [
    {
     "data": {
      "text/html": [
       "<div>\n",
       "<style scoped>\n",
       "    .dataframe tbody tr th:only-of-type {\n",
       "        vertical-align: middle;\n",
       "    }\n",
       "\n",
       "    .dataframe tbody tr th {\n",
       "        vertical-align: top;\n",
       "    }\n",
       "\n",
       "    .dataframe thead th {\n",
       "        text-align: right;\n",
       "    }\n",
       "</style>\n",
       "<table border=\"1\" class=\"dataframe\">\n",
       "  <thead>\n",
       "    <tr style=\"text-align: right;\">\n",
       "      <th></th>\n",
       "      <th>CommentCount</th>\n",
       "      <th>Score</th>\n",
       "      <th>ViewCount</th>\n",
       "      <th>Body_len</th>\n",
       "      <th>Title_len</th>\n",
       "    </tr>\n",
       "  </thead>\n",
       "  <tbody>\n",
       "    <tr>\n",
       "      <th>CommentCount</th>\n",
       "      <td>1.000000</td>\n",
       "      <td>0.329823</td>\n",
       "      <td>0.141008</td>\n",
       "      <td>0.149343</td>\n",
       "      <td>0.022885</td>\n",
       "    </tr>\n",
       "    <tr>\n",
       "      <th>Score</th>\n",
       "      <td>0.329823</td>\n",
       "      <td>1.000000</td>\n",
       "      <td>0.384695</td>\n",
       "      <td>0.081565</td>\n",
       "      <td>0.011970</td>\n",
       "    </tr>\n",
       "    <tr>\n",
       "      <th>ViewCount</th>\n",
       "      <td>0.141008</td>\n",
       "      <td>0.384695</td>\n",
       "      <td>1.000000</td>\n",
       "      <td>-0.018227</td>\n",
       "      <td>0.009414</td>\n",
       "    </tr>\n",
       "    <tr>\n",
       "      <th>Body_len</th>\n",
       "      <td>0.149343</td>\n",
       "      <td>0.081565</td>\n",
       "      <td>-0.018227</td>\n",
       "      <td>1.000000</td>\n",
       "      <td>0.036594</td>\n",
       "    </tr>\n",
       "    <tr>\n",
       "      <th>Title_len</th>\n",
       "      <td>0.022885</td>\n",
       "      <td>0.011970</td>\n",
       "      <td>0.009414</td>\n",
       "      <td>0.036594</td>\n",
       "      <td>1.000000</td>\n",
       "    </tr>\n",
       "  </tbody>\n",
       "</table>\n",
       "</div>"
      ],
      "text/plain": [
       "              CommentCount     Score  ViewCount  Body_len  Title_len\n",
       "CommentCount      1.000000  0.329823   0.141008  0.149343   0.022885\n",
       "Score             0.329823  1.000000   0.384695  0.081565   0.011970\n",
       "ViewCount         0.141008  0.384695   1.000000 -0.018227   0.009414\n",
       "Body_len          0.149343  0.081565  -0.018227  1.000000   0.036594\n",
       "Title_len         0.022885  0.011970   0.009414  0.036594   1.000000"
      ]
     },
     "execution_count": 21,
     "metadata": {},
     "output_type": "execute_result"
    }
   ],
   "source": [
    "df.corr()"
   ]
  },
  {
   "cell_type": "code",
   "execution_count": 37,
   "metadata": {},
   "outputs": [],
   "source": [
    "df1=df[df[\"Qualit\"]!=\"Zero\"]"
   ]
  },
  {
   "cell_type": "code",
   "execution_count": 38,
   "metadata": {},
   "outputs": [
    {
     "data": {
      "text/html": [
       "<div>\n",
       "<style scoped>\n",
       "    .dataframe tbody tr th:only-of-type {\n",
       "        vertical-align: middle;\n",
       "    }\n",
       "\n",
       "    .dataframe tbody tr th {\n",
       "        vertical-align: top;\n",
       "    }\n",
       "\n",
       "    .dataframe thead th {\n",
       "        text-align: right;\n",
       "    }\n",
       "</style>\n",
       "<table border=\"1\" class=\"dataframe\">\n",
       "  <thead>\n",
       "    <tr style=\"text-align: right;\">\n",
       "      <th></th>\n",
       "      <th>CommentCount</th>\n",
       "      <th>Score</th>\n",
       "      <th>ViewCount</th>\n",
       "      <th>Body_len</th>\n",
       "      <th>Title_len</th>\n",
       "      <th>Qualit</th>\n",
       "    </tr>\n",
       "  </thead>\n",
       "  <tbody>\n",
       "    <tr>\n",
       "      <th>CommentCount</th>\n",
       "      <td>1.000000</td>\n",
       "      <td>0.329823</td>\n",
       "      <td>0.141008</td>\n",
       "      <td>0.149343</td>\n",
       "      <td>0.022885</td>\n",
       "      <td>0.255040</td>\n",
       "    </tr>\n",
       "    <tr>\n",
       "      <th>Score</th>\n",
       "      <td>0.329823</td>\n",
       "      <td>1.000000</td>\n",
       "      <td>0.384695</td>\n",
       "      <td>0.081565</td>\n",
       "      <td>0.011970</td>\n",
       "      <td>0.495399</td>\n",
       "    </tr>\n",
       "    <tr>\n",
       "      <th>ViewCount</th>\n",
       "      <td>0.141008</td>\n",
       "      <td>0.384695</td>\n",
       "      <td>1.000000</td>\n",
       "      <td>-0.018227</td>\n",
       "      <td>0.009414</td>\n",
       "      <td>0.211756</td>\n",
       "    </tr>\n",
       "    <tr>\n",
       "      <th>Body_len</th>\n",
       "      <td>0.149343</td>\n",
       "      <td>0.081565</td>\n",
       "      <td>-0.018227</td>\n",
       "      <td>1.000000</td>\n",
       "      <td>0.036594</td>\n",
       "      <td>0.145640</td>\n",
       "    </tr>\n",
       "    <tr>\n",
       "      <th>Title_len</th>\n",
       "      <td>0.022885</td>\n",
       "      <td>0.011970</td>\n",
       "      <td>0.009414</td>\n",
       "      <td>0.036594</td>\n",
       "      <td>1.000000</td>\n",
       "      <td>0.002921</td>\n",
       "    </tr>\n",
       "    <tr>\n",
       "      <th>Qualit</th>\n",
       "      <td>0.255040</td>\n",
       "      <td>0.495399</td>\n",
       "      <td>0.211756</td>\n",
       "      <td>0.145640</td>\n",
       "      <td>0.002921</td>\n",
       "      <td>1.000000</td>\n",
       "    </tr>\n",
       "  </tbody>\n",
       "</table>\n",
       "</div>"
      ],
      "text/plain": [
       "              CommentCount     Score  ViewCount  Body_len  Title_len    Qualit\n",
       "CommentCount      1.000000  0.329823   0.141008  0.149343   0.022885  0.255040\n",
       "Score             0.329823  1.000000   0.384695  0.081565   0.011970  0.495399\n",
       "ViewCount         0.141008  0.384695   1.000000 -0.018227   0.009414  0.211756\n",
       "Body_len          0.149343  0.081565  -0.018227  1.000000   0.036594  0.145640\n",
       "Title_len         0.022885  0.011970   0.009414  0.036594   1.000000  0.002921\n",
       "Qualit            0.255040  0.495399   0.211756  0.145640   0.002921  1.000000"
      ]
     },
     "execution_count": 38,
     "metadata": {},
     "output_type": "execute_result"
    }
   ],
   "source": [
    "df1.corr()"
   ]
  },
  {
   "cell_type": "code",
   "execution_count": 29,
   "metadata": {},
   "outputs": [
    {
     "data": {
      "text/html": [
       "<div>\n",
       "<style scoped>\n",
       "    .dataframe tbody tr th:only-of-type {\n",
       "        vertical-align: middle;\n",
       "    }\n",
       "\n",
       "    .dataframe tbody tr th {\n",
       "        vertical-align: top;\n",
       "    }\n",
       "\n",
       "    .dataframe thead th {\n",
       "        text-align: right;\n",
       "    }\n",
       "</style>\n",
       "<table border=\"1\" class=\"dataframe\">\n",
       "  <thead>\n",
       "    <tr style=\"text-align: right;\">\n",
       "      <th></th>\n",
       "      <th>CommentCount</th>\n",
       "      <th>Score</th>\n",
       "      <th>ViewCount</th>\n",
       "      <th>Body_len</th>\n",
       "      <th>Title_len</th>\n",
       "      <th>Qualit</th>\n",
       "    </tr>\n",
       "  </thead>\n",
       "  <tbody>\n",
       "    <tr>\n",
       "      <th>CommentCount</th>\n",
       "      <td>1.000000</td>\n",
       "      <td>0.329823</td>\n",
       "      <td>0.141008</td>\n",
       "      <td>0.149343</td>\n",
       "      <td>0.022885</td>\n",
       "      <td>0.255040</td>\n",
       "    </tr>\n",
       "    <tr>\n",
       "      <th>Score</th>\n",
       "      <td>0.329823</td>\n",
       "      <td>1.000000</td>\n",
       "      <td>0.384695</td>\n",
       "      <td>0.081565</td>\n",
       "      <td>0.011970</td>\n",
       "      <td>0.495399</td>\n",
       "    </tr>\n",
       "    <tr>\n",
       "      <th>ViewCount</th>\n",
       "      <td>0.141008</td>\n",
       "      <td>0.384695</td>\n",
       "      <td>1.000000</td>\n",
       "      <td>-0.018227</td>\n",
       "      <td>0.009414</td>\n",
       "      <td>0.211756</td>\n",
       "    </tr>\n",
       "    <tr>\n",
       "      <th>Body_len</th>\n",
       "      <td>0.149343</td>\n",
       "      <td>0.081565</td>\n",
       "      <td>-0.018227</td>\n",
       "      <td>1.000000</td>\n",
       "      <td>0.036594</td>\n",
       "      <td>0.145640</td>\n",
       "    </tr>\n",
       "    <tr>\n",
       "      <th>Title_len</th>\n",
       "      <td>0.022885</td>\n",
       "      <td>0.011970</td>\n",
       "      <td>0.009414</td>\n",
       "      <td>0.036594</td>\n",
       "      <td>1.000000</td>\n",
       "      <td>0.002921</td>\n",
       "    </tr>\n",
       "    <tr>\n",
       "      <th>Qualit</th>\n",
       "      <td>0.255040</td>\n",
       "      <td>0.495399</td>\n",
       "      <td>0.211756</td>\n",
       "      <td>0.145640</td>\n",
       "      <td>0.002921</td>\n",
       "      <td>1.000000</td>\n",
       "    </tr>\n",
       "  </tbody>\n",
       "</table>\n",
       "</div>"
      ],
      "text/plain": [
       "              CommentCount     Score  ViewCount  Body_len  Title_len    Qualit\n",
       "CommentCount      1.000000  0.329823   0.141008  0.149343   0.022885  0.255040\n",
       "Score             0.329823  1.000000   0.384695  0.081565   0.011970  0.495399\n",
       "ViewCount         0.141008  0.384695   1.000000 -0.018227   0.009414  0.211756\n",
       "Body_len          0.149343  0.081565  -0.018227  1.000000   0.036594  0.145640\n",
       "Title_len         0.022885  0.011970   0.009414  0.036594   1.000000  0.002921\n",
       "Qualit            0.255040  0.495399   0.211756  0.145640   0.002921  1.000000"
      ]
     },
     "execution_count": 29,
     "metadata": {},
     "output_type": "execute_result"
    }
   ],
   "source": [
    "df1.corr()"
   ]
  },
  {
   "cell_type": "code",
   "execution_count": 46,
   "metadata": {},
   "outputs": [
    {
     "data": {
      "text/plain": [
       "CommentCount    0\n",
       "Score           0\n",
       "ViewCount       0\n",
       "Body_len        0\n",
       "Title_len       0\n",
       "Qualit          0\n",
       "dtype: int64"
      ]
     },
     "execution_count": 46,
     "metadata": {},
     "output_type": "execute_result"
    }
   ],
   "source": [
    "df.isnull().sum()"
   ]
  },
  {
   "cell_type": "code",
   "execution_count": 47,
   "metadata": {},
   "outputs": [
    {
     "name": "stdout",
     "output_type": "stream",
     "text": [
      "<class 'pandas.core.frame.DataFrame'>\n",
      "RangeIndex: 49652 entries, 0 to 49651\n",
      "Data columns (total 6 columns):\n",
      "CommentCount    49652 non-null int64\n",
      "Score           49652 non-null int64\n",
      "ViewCount       49652 non-null int64\n",
      "Body_len        49652 non-null int64\n",
      "Title_len       49652 non-null int64\n",
      "Qualit          49652 non-null object\n",
      "dtypes: int64(5), object(1)\n",
      "memory usage: 2.3+ MB\n"
     ]
    }
   ],
   "source": [
    "df.info()"
   ]
  },
  {
   "cell_type": "code",
   "execution_count": 49,
   "metadata": {},
   "outputs": [
    {
     "data": {
      "text/html": [
       "<div>\n",
       "<style scoped>\n",
       "    .dataframe tbody tr th:only-of-type {\n",
       "        vertical-align: middle;\n",
       "    }\n",
       "\n",
       "    .dataframe tbody tr th {\n",
       "        vertical-align: top;\n",
       "    }\n",
       "\n",
       "    .dataframe thead th {\n",
       "        text-align: right;\n",
       "    }\n",
       "</style>\n",
       "<table border=\"1\" class=\"dataframe\">\n",
       "  <thead>\n",
       "    <tr style=\"text-align: right;\">\n",
       "      <th></th>\n",
       "      <th>CommentCount</th>\n",
       "      <th>Score</th>\n",
       "      <th>ViewCount</th>\n",
       "      <th>Body_len</th>\n",
       "      <th>Title_len</th>\n",
       "    </tr>\n",
       "  </thead>\n",
       "  <tbody>\n",
       "    <tr>\n",
       "      <th>0</th>\n",
       "      <td>5</td>\n",
       "      <td>76</td>\n",
       "      <td>13803</td>\n",
       "      <td>41</td>\n",
       "      <td>8</td>\n",
       "    </tr>\n",
       "    <tr>\n",
       "      <th>1</th>\n",
       "      <td>4</td>\n",
       "      <td>29</td>\n",
       "      <td>2641</td>\n",
       "      <td>28</td>\n",
       "      <td>8</td>\n",
       "    </tr>\n",
       "    <tr>\n",
       "      <th>2</th>\n",
       "      <td>5</td>\n",
       "      <td>35</td>\n",
       "      <td>2412</td>\n",
       "      <td>147</td>\n",
       "      <td>5</td>\n",
       "    </tr>\n",
       "    <tr>\n",
       "      <th>3</th>\n",
       "      <td>5</td>\n",
       "      <td>10</td>\n",
       "      <td>2033</td>\n",
       "      <td>20</td>\n",
       "      <td>4</td>\n",
       "    </tr>\n",
       "    <tr>\n",
       "      <th>4</th>\n",
       "      <td>2</td>\n",
       "      <td>48</td>\n",
       "      <td>9277</td>\n",
       "      <td>38</td>\n",
       "      <td>1</td>\n",
       "    </tr>\n",
       "  </tbody>\n",
       "</table>\n",
       "</div>"
      ],
      "text/plain": [
       "   CommentCount  Score  ViewCount  Body_len  Title_len\n",
       "0             5     76      13803        41          8\n",
       "1             4     29       2641        28          8\n",
       "2             5     35       2412       147          5\n",
       "3             5     10       2033        20          4\n",
       "4             2     48       9277        38          1"
      ]
     },
     "execution_count": 49,
     "metadata": {},
     "output_type": "execute_result"
    }
   ],
   "source": [
    "X=df.iloc[:,0:5]\n",
    "y=df.iloc[:,-1]\n",
    "X.head()"
   ]
  },
  {
   "cell_type": "code",
   "execution_count": 52,
   "metadata": {},
   "outputs": [
    {
     "data": {
      "text/html": [
       "<div>\n",
       "<style scoped>\n",
       "    .dataframe tbody tr th:only-of-type {\n",
       "        vertical-align: middle;\n",
       "    }\n",
       "\n",
       "    .dataframe tbody tr th {\n",
       "        vertical-align: top;\n",
       "    }\n",
       "\n",
       "    .dataframe thead th {\n",
       "        text-align: right;\n",
       "    }\n",
       "</style>\n",
       "<table border=\"1\" class=\"dataframe\">\n",
       "  <thead>\n",
       "    <tr style=\"text-align: right;\">\n",
       "      <th></th>\n",
       "      <th>CommentCount</th>\n",
       "      <th>Score</th>\n",
       "      <th>ViewCount</th>\n",
       "      <th>Body_len</th>\n",
       "      <th>Title_len</th>\n",
       "      <th>Qualit</th>\n",
       "    </tr>\n",
       "  </thead>\n",
       "  <tbody>\n",
       "    <tr>\n",
       "      <th>0</th>\n",
       "      <td>5</td>\n",
       "      <td>76</td>\n",
       "      <td>13803</td>\n",
       "      <td>41</td>\n",
       "      <td>8</td>\n",
       "      <td>Good</td>\n",
       "    </tr>\n",
       "  </tbody>\n",
       "</table>\n",
       "</div>"
      ],
      "text/plain": [
       "   CommentCount  Score  ViewCount  Body_len  Title_len Qualit\n",
       "0             5     76      13803        41          8   Good"
      ]
     },
     "execution_count": 52,
     "metadata": {},
     "output_type": "execute_result"
    }
   ],
   "source": [
    "df.head(1)"
   ]
  },
  {
   "cell_type": "code",
   "execution_count": 8,
   "metadata": {},
   "outputs": [
    {
     "data": {
      "text/plain": [
       "<matplotlib.axes._subplots.AxesSubplot at 0xcfc8a20>"
      ]
     },
     "execution_count": 8,
     "metadata": {},
     "output_type": "execute_result"
    },
    {
     "data": {
      "image/png": "[encoded data removed]",
      "text/plain": [
       "<Figure size 432x288 with 1 Axes>"
      ]
     },
     "metadata": {
      "needs_background": "light"
     },
     "output_type": "display_data"
    }
   ],
   "source": [
    "df[\"Qualit\"].value_counts().plot(kind='bar')"
   ]
  },
  {
   "cell_type": "code",
   "execution_count": 11,
   "metadata": {},
   "outputs": [],
   "source": [
    "def convert(s):\n",
    "    if s==\"Good\":\n",
    "        return 3\n",
    "    elif s==\"Low\":\n",
    "        return 2\n",
    "    else:\n",
    "        return 1"
   ]
  },
  {
   "cell_type": "code",
   "execution_count": 12,
   "metadata": {},
   "outputs": [],
   "source": [
    "df[\"Qualit\"]=df[\"Qualit\"].apply(convert)"
   ]
  },
  {
   "cell_type": "code",
   "execution_count": 13,
   "metadata": {},
   "outputs": [
    {
     "data": {
      "text/html": [
       "<div>\n",
       "<style scoped>\n",
       "    .dataframe tbody tr th:only-of-type {\n",
       "        vertical-align: middle;\n",
       "    }\n",
       "\n",
       "    .dataframe tbody tr th {\n",
       "        vertical-align: top;\n",
       "    }\n",
       "\n",
       "    .dataframe thead th {\n",
       "        text-align: right;\n",
       "    }\n",
       "</style>\n",
       "<table border=\"1\" class=\"dataframe\">\n",
       "  <thead>\n",
       "    <tr style=\"text-align: right;\">\n",
       "      <th></th>\n",
       "      <th>CommentCount</th>\n",
       "      <th>Score</th>\n",
       "      <th>ViewCount</th>\n",
       "      <th>Body_len</th>\n",
       "      <th>Title_len</th>\n",
       "      <th>Qualit</th>\n",
       "    </tr>\n",
       "  </thead>\n",
       "  <tbody>\n",
       "    <tr>\n",
       "      <th>0</th>\n",
       "      <td>1</td>\n",
       "      <td>76</td>\n",
       "      <td>13803</td>\n",
       "      <td>41</td>\n",
       "      <td>8</td>\n",
       "      <td>3</td>\n",
       "    </tr>\n",
       "    <tr>\n",
       "      <th>1</th>\n",
       "      <td>1</td>\n",
       "      <td>29</td>\n",
       "      <td>2641</td>\n",
       "      <td>28</td>\n",
       "      <td>8</td>\n",
       "      <td>3</td>\n",
       "    </tr>\n",
       "    <tr>\n",
       "      <th>2</th>\n",
       "      <td>1</td>\n",
       "      <td>35</td>\n",
       "      <td>2412</td>\n",
       "      <td>147</td>\n",
       "      <td>5</td>\n",
       "      <td>3</td>\n",
       "    </tr>\n",
       "    <tr>\n",
       "      <th>3</th>\n",
       "      <td>1</td>\n",
       "      <td>10</td>\n",
       "      <td>2033</td>\n",
       "      <td>20</td>\n",
       "      <td>4</td>\n",
       "      <td>3</td>\n",
       "    </tr>\n",
       "    <tr>\n",
       "      <th>4</th>\n",
       "      <td>1</td>\n",
       "      <td>48</td>\n",
       "      <td>9277</td>\n",
       "      <td>38</td>\n",
       "      <td>1</td>\n",
       "      <td>3</td>\n",
       "    </tr>\n",
       "  </tbody>\n",
       "</table>\n",
       "</div>"
      ],
      "text/plain": [
       "   CommentCount  Score  ViewCount  Body_len  Title_len  Qualit\n",
       "0             1     76      13803        41          8       3\n",
       "1             1     29       2641        28          8       3\n",
       "2             1     35       2412       147          5       3\n",
       "3             1     10       2033        20          4       3\n",
       "4             1     48       9277        38          1       3"
      ]
     },
     "execution_count": 13,
     "metadata": {},
     "output_type": "execute_result"
    }
   ],
   "source": [
    "df.head()"
   ]
  },
  {
   "cell_type": "code",
   "execution_count": 14,
   "metadata": {},
   "outputs": [],
   "source": [
    "X = df.iloc[:, :-1]\n",
    "y = df.iloc[:, -1 ]"
   ]
  },
  {
   "cell_type": "code",
   "execution_count": 15,
   "metadata": {},
   "outputs": [],
   "source": [
    "#Test train split\n",
    "from sklearn.model_selection import train_test_split\n",
    "X_train, X_test, y_train, y_test = train_test_split(X, y, test_size=0.2, random_state=42)"
   ]
  },
  {
   "cell_type": "code",
   "execution_count": 16,
   "metadata": {},
   "outputs": [
    {
     "name": "stderr",
     "output_type": "stream",
     "text": [
      "C:\\Users\\omcomputers\\Anaconda2\\lib\\site-packages\\sklearn\\preprocessing\\data.py:645: DataConversionWarning: Data with input dtype int64 were all converted to float64 by StandardScaler.\n",
      "  return self.partial_fit(X, y)\n",
      "C:\\Users\\omcomputers\\Anaconda2\\lib\\site-packages\\sklearn\\base.py:464: DataConversionWarning: Data with input dtype int64 were all converted to float64 by StandardScaler.\n",
      "  return self.fit(X, **fit_params).transform(X)\n",
      "C:\\Users\\omcomputers\\Anaconda2\\lib\\site-packages\\ipykernel_launcher.py:5: DataConversionWarning: Data with input dtype int64 were all converted to float64 by StandardScaler.\n",
      "  \"\"\"\n"
     ]
    }
   ],
   "source": [
    "from sklearn.preprocessing import StandardScaler\n",
    "\n",
    "Scaler = StandardScaler()\n",
    "X_train = Scaler.fit_transform(X_train)\n",
    "X_test = Scaler.transform(X_test)\n"
   ]
  },
  {
   "cell_type": "code",
   "execution_count": 17,
   "metadata": {},
   "outputs": [
    {
     "data": {
      "text/plain": [
       "array([[-0.20405467, -0.38377928, -0.24174876, -0.76741634, -0.99634809],\n",
       "       [-0.20405467, -0.29085297, -0.24468015,  1.39698852, -0.73944986],\n",
       "       [-0.20405467,  0.17377859, -0.10435583, -0.65707413,  0.54504127],\n",
       "       ...,\n",
       "       [-0.20405467, -0.29085297, -0.07950275,  2.33065337, -0.22565341],\n",
       "       [-0.20405467, -0.38377928, -0.24136641,  0.65005665,  0.28814304],\n",
       "       [-0.20405467,  0.35963122, -0.22122904, -0.3260475 ,  0.28814304]])"
      ]
     },
     "execution_count": 17,
     "metadata": {},
     "output_type": "execute_result"
    }
   ],
   "source": [
    "X_test"
   ]
  },
  {
   "cell_type": "code",
   "execution_count": 26,
   "metadata": {},
   "outputs": [
    {
     "name": "stdout",
     "output_type": "stream",
     "text": [
      "('k-value:', 1, 'Train-Score:', 1.0, 'CV_Score:', 0.9772502548550597)\n",
      "('k-value:', 3, 'Train-Score:', 0.9919186324614184, 'CV_Score:', 0.9733800290739577)\n",
      "('k-value:', 5, 'Train-Score:', 0.9882933460889706, 'CV_Score:', 0.9695562930538516)\n",
      "('k-value:', 7, 'Train-Score:', 0.9846680597165227, 'CV_Score:', 0.9662606376353124)\n",
      "('k-value:', 9, 'Train-Score:', 0.9818232169381436, 'CV_Score:', 0.9627844312689465)\n",
      "('k-value:', 11, 'Train-Score:', 0.9800105737519197, 'CV_Score:', 0.9602350128101467)\n",
      "('k-value:', 13, 'Train-Score:', 0.9776944185695224, 'CV_Score:', 0.9564584848579104)\n",
      "('k-value:', 15, 'Train-Score:', 0.9757558973842552, 'CV_Score:', 0.9533432726369659)\n",
      "('k-value:', 17, 'Train-Score:', 0.9742957125953526, 'CV_Score:', 0.9509089863991491)\n",
      "('k-value:', 19, 'Train-Score:', 0.97208025981219, 'CV_Score:', 0.9476370098944962)\n"
     ]
    }
   ],
   "source": [
    "from sklearn.model_selection import cross_val_score\n",
    "from sklearn.neighbors import KNeighborsClassifier\n",
    "import numpy as np\n",
    "\n",
    "for i in range(1,20,2):\n",
    "  knn = KNeighborsClassifier(n_neighbors=i)\n",
    "# Fit the classifier to the training data\n",
    "  knn.fit(X_train, y_train)\n",
    "  #y_pred = knn.predict(X_test)\n",
    "\n",
    "  # Calculate the accuracy of the classifier\n",
    "  #accuracy = accuracy_score(y_test, y_pred)\n",
    "  #print(\"Accuracy:\", accuracy)\n",
    "  #scores = cross_val_score(knn, iris.data, iris.target, cv=5,scoring='roc_auc')\n",
    "  print('k-value:', i, 'Train-Score:', knn.score(X_train,y_train), 'CV_Score:', np.mean(cross_val_score(knn,X_train, y_train, cv=10, scoring='f1_macro')))"
   ]
  },
  {
   "cell_type": "code",
   "execution_count": 28,
   "metadata": {},
   "outputs": [
    {
     "name": "stdout",
     "output_type": "stream",
     "text": [
      "('Train-Score:', 0.9810693787131205)\n",
      "('Train-Score:', 0.9810693787131205)\n"
     ]
    }
   ],
   "source": [
    "kn = KNeighborsClassifier(3)\n",
    "kn.fit(X_train, y_train)\n",
    "y_predict_knn = kn.predict(X_test)\n",
    "\n",
    "print('Train-Score:', kn.score(X_test, y_test))\n",
    "print('Train-Score:', kn.score(X_test, y_test))\n",
    "\n"
   ]
  },
  {
   "cell_type": "code",
   "execution_count": 29,
   "metadata": {},
   "outputs": [
    {
     "name": "stdout",
     "output_type": "stream",
     "text": [
      "('Depth:', 1, 'Training Accuracy:', 0.8620125374487048, 'CV_Score:', 0.8620125452019096)\n",
      "('Depth:', 2, 'Training Accuracy:', 1.0, 'CV_Score:', 1.0)\n",
      "('Depth:', 3, 'Training Accuracy:', 1.0, 'CV_Score:', 1.0)\n",
      "('Depth:', 4, 'Training Accuracy:', 1.0, 'CV_Score:', 1.0)\n",
      "('Depth:', 5, 'Training Accuracy:', 1.0, 'CV_Score:', 1.0)\n",
      "('Depth:', 6, 'Training Accuracy:', 1.0, 'CV_Score:', 1.0)\n",
      "('Depth:', 7, 'Training Accuracy:', 1.0, 'CV_Score:', 1.0)\n",
      "('Depth:', 8, 'Training Accuracy:', 1.0, 'CV_Score:', 1.0)\n",
      "('Depth:', 9, 'Training Accuracy:', 1.0, 'CV_Score:', 1.0)\n",
      "('Depth:', 10, 'Training Accuracy:', 1.0, 'CV_Score:', 1.0)\n",
      "('Depth:', 11, 'Training Accuracy:', 1.0, 'CV_Score:', 1.0)\n",
      "('Depth:', 12, 'Training Accuracy:', 1.0, 'CV_Score:', 1.0)\n",
      "('Depth:', 13, 'Training Accuracy:', 1.0, 'CV_Score:', 1.0)\n",
      "('Depth:', 14, 'Training Accuracy:', 1.0, 'CV_Score:', 1.0)\n",
      "('Depth:', 15, 'Training Accuracy:', 1.0, 'CV_Score:', 1.0)\n",
      "('Depth:', 16, 'Training Accuracy:', 1.0, 'CV_Score:', 1.0)\n",
      "('Depth:', 17, 'Training Accuracy:', 1.0, 'CV_Score:', 1.0)\n",
      "('Depth:', 18, 'Training Accuracy:', 1.0, 'CV_Score:', 1.0)\n",
      "('Depth:', 19, 'Training Accuracy:', 1.0, 'CV_Score:', 1.0)\n",
      "('Depth:', 20, 'Training Accuracy:', 1.0, 'CV_Score:', 1.0)\n",
      "('Depth:', 21, 'Training Accuracy:', 1.0, 'CV_Score:', 1.0)\n",
      "('Depth:', 22, 'Training Accuracy:', 1.0, 'CV_Score:', 1.0)\n",
      "('Depth:', 23, 'Training Accuracy:', 1.0, 'CV_Score:', 1.0)\n",
      "('Depth:', 24, 'Training Accuracy:', 1.0, 'CV_Score:', 1.0)\n",
      "('Depth:', 25, 'Training Accuracy:', 1.0, 'CV_Score:', 1.0)\n",
      "('Depth:', 26, 'Training Accuracy:', 1.0, 'CV_Score:', 1.0)\n",
      "('Depth:', 27, 'Training Accuracy:', 1.0, 'CV_Score:', 1.0)\n",
      "('Depth:', 28, 'Training Accuracy:', 1.0, 'CV_Score:', 1.0)\n",
      "('Depth:', 29, 'Training Accuracy:', 1.0, 'CV_Score:', 1.0)\n",
      "('Depth:', 30, 'Training Accuracy:', 1.0, 'CV_Score:', 1.0)\n"
     ]
    }
   ],
   "source": [
    "from sklearn.model_selection import cross_val_score\n",
    "from sklearn.tree import DecisionTreeClassifier\n",
    "from sklearn.metrics import roc_auc_score,accuracy_score\n",
    "\n",
    "for depth in range(1,31):\n",
    "  dt = DecisionTreeClassifier(max_depth=depth)\n",
    "  dt.fit(X_train, y_train)\n",
    "  trainaccuracy = accuracy_score(y_train, dt.predict(X_train)) \n",
    "  dt = DecisionTreeClassifier(max_depth=depth)\n",
    "  valaccuracy = cross_val_score(dt, X_train, y_train, cv=10)\n",
    "  print('Depth:',depth, 'Training Accuracy:',trainaccuracy, 'CV_Score:', np.mean(valaccuracy))"
   ]
  },
  {
   "cell_type": "code",
   "execution_count": 35,
   "metadata": {},
   "outputs": [
    {
     "name": "stdout",
     "output_type": "stream",
     "text": [
      "('Training Accuracy :', 1.0)\n",
      "('Testing Accuracy  :', 1.0)\n"
     ]
    }
   ],
   "source": [
    "from sklearn.ensemble import RandomForestClassifier\n",
    "\n",
    "tree = RandomForestClassifier(n_estimators=100,max_depth=6, max_features='sqrt')\n",
    "tree.fit(X_train,y_train)\n",
    "y_pred_rf = tree.predict(X_test)\n",
    "\n",
    "print(\"Training Accuracy :\",tree.score(X_train,y_train))\n",
    "print(\"Testing Accuracy  :\",tree.score(X_test,y_test))\n"
   ]
  },
  {
   "cell_type": "code",
   "execution_count": null,
   "metadata": {},
   "outputs": [],
   "source": []
  },
  {
   "cell_type": "code",
   "execution_count": null,
   "metadata": {},
   "outputs": [],
   "source": []
  },
  {
   "cell_type": "code",
   "execution_count": null,
   "metadata": {},
   "outputs": [],
   "source": []
  }
 ],
 "metadata": {
  "kernelspec": {
   "display_name": "Python 2",
   "language": "python",
   "name": "python2"
  },
  "language_info": {
   "codemirror_mode": {
    "name": "ipython",
    "version": 2
   },
   "file_extension": ".py",
   "mimetype": "text/x-python",
   "name": "python",
   "nbconvert_exporter": "python",
   "pygments_lexer": "ipython2",
   "version": "2.7.16"
  }
 },
 "nbformat": 4,
 "nbformat_minor": 2
}
